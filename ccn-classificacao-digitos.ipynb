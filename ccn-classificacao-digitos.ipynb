{
 "cells": [
  {
   "cell_type": "markdown",
   "metadata": {
    "papermill": {
     "duration": 0.02067,
     "end_time": "2021-02-15T13:53:54.650474",
     "exception": false,
     "start_time": "2021-02-15T13:53:54.629804",
     "status": "completed"
    },
    "tags": []
   },
   "source": [
    "# Introdução"
   ]
  },
  {
   "cell_type": "markdown",
   "metadata": {
    "papermill": {
     "duration": 0.018509,
     "end_time": "2021-02-15T13:53:54.688497",
     "exception": false,
     "start_time": "2021-02-15T13:53:54.669988",
     "status": "completed"
    },
    "tags": []
   },
   "source": [
    "**Objetivo:**\n",
    "\n",
    "Este trabalho foi desenvolvido para a revolver o problema proposto no trabalho 2 de Aprendizado com a máquina, do professor Otávio Parraga. Implementamos por meio da biblioteca tensorflow/keras do python com redes neurais. O algoritmo utilizado é o CNN básico.\n",
    "\n",
    "**Alunos:**  Isadora Ferreira Guerra (22104296), Rodrigo Rosa Renck (22106811), Leonardo Preczevski Ramos (22107134), Gustavo Canellas Aveline Rocha (22106369), Otávio De Carli Albuquerque (22106750)"
   ]
  },
  {
   "cell_type": "markdown",
   "metadata": {
    "papermill": {
     "duration": 0.017625,
     "end_time": "2021-02-15T13:53:54.724935",
     "exception": false,
     "start_time": "2021-02-15T13:53:54.707310",
     "status": "completed"
    },
    "tags": []
   },
   "source": [
    "# Bibliotecas e Dados"
   ]
  },
  {
   "cell_type": "code",
   "execution_count": 43,
   "metadata": {
    "ExecuteTime": {
     "end_time": "2019-01-16T20:39:41.500258Z",
     "start_time": "2019-01-16T20:39:39.261856Z"
    },
    "execution": {
     "iopub.execute_input": "2021-02-15T13:53:54.772820Z",
     "iopub.status.busy": "2021-02-15T13:53:54.772017Z",
     "iopub.status.idle": "2021-02-15T13:54:00.965132Z",
     "shell.execute_reply": "2021-02-15T13:54:00.964004Z"
    },
    "papermill": {
     "duration": 6.221634,
     "end_time": "2021-02-15T13:54:00.965259",
     "exception": false,
     "start_time": "2021-02-15T13:53:54.743625",
     "status": "completed"
    },
    "tags": []
   },
   "outputs": [],
   "source": [
    "# Bibliotecas necessárias\n",
    "# Manipulação de dados\n",
    "import pandas as pd\n",
    "# Redes Neurais\n",
    "from tensorflow import keras\n",
    "from tensorflow.keras.datasets import mnist\n",
    "from tensorflow.keras.models import Sequential\n",
    "from tensorflow.keras.layers import Dense, Dropout, Conv2D, MaxPooling2D, Flatten\n",
    "from tensorflow.keras.optimizers import RMSprop\n",
    "# Plot\n",
    "import matplotlib.pyplot as plt\n",
    "%matplotlib inline\n",
    "# SkLearn\n",
    "from sklearn.model_selection import train_test_split"
   ]
  },
  {
   "cell_type": "code",
   "execution_count": 44,
   "metadata": {
    "execution": {
     "iopub.execute_input": "2021-02-15T13:54:01.035640Z",
     "iopub.status.busy": "2021-02-15T13:54:01.034669Z",
     "iopub.status.idle": "2021-02-15T13:54:05.088406Z",
     "shell.execute_reply": "2021-02-15T13:54:05.087160Z"
    },
    "papermill": {
     "duration": 4.091098,
     "end_time": "2021-02-15T13:54:05.088536",
     "exception": false,
     "start_time": "2021-02-15T13:54:00.997438",
     "status": "completed"
    },
    "tags": []
   },
   "outputs": [],
   "source": [
    "# Ler dataset\n",
    "train = pd.read_csv(\"./train.csv\")"
   ]
  },
  {
   "cell_type": "markdown",
   "metadata": {},
   "source": [
    "# Analise do dataset"
   ]
  },
  {
   "cell_type": "code",
   "execution_count": 45,
   "metadata": {
    "execution": {
     "iopub.execute_input": "2021-02-15T13:54:05.146765Z",
     "iopub.status.busy": "2021-02-15T13:54:05.145901Z",
     "iopub.status.idle": "2021-02-15T13:54:05.152034Z",
     "shell.execute_reply": "2021-02-15T13:54:05.151493Z"
    },
    "papermill": {
     "duration": 0.042348,
     "end_time": "2021-02-15T13:54:05.152142",
     "exception": false,
     "start_time": "2021-02-15T13:54:05.109794",
     "status": "completed"
    },
    "tags": []
   },
   "outputs": [
    {
     "name": "stdout",
     "output_type": "stream",
     "text": [
      "Quantidade de elementos de treino: 42000\n",
      "   label  pixel0  pixel1  pixel2  pixel3  pixel4  pixel5  pixel6  pixel7  \\\n",
      "0      1       0       0       0       0       0       0       0       0   \n",
      "1      0       0       0       0       0       0       0       0       0   \n",
      "2      1       0       0       0       0       0       0       0       0   \n",
      "3      4       0       0       0       0       0       0       0       0   \n",
      "4      0       0       0       0       0       0       0       0       0   \n",
      "\n",
      "   pixel8  ...  pixel774  pixel775  pixel776  pixel777  pixel778  pixel779  \\\n",
      "0       0  ...         0         0         0         0         0         0   \n",
      "1       0  ...         0         0         0         0         0         0   \n",
      "2       0  ...         0         0         0         0         0         0   \n",
      "3       0  ...         0         0         0         0         0         0   \n",
      "4       0  ...         0         0         0         0         0         0   \n",
      "\n",
      "   pixel780  pixel781  pixel782  pixel783  \n",
      "0         0         0         0         0  \n",
      "1         0         0         0         0  \n",
      "2         0         0         0         0  \n",
      "3         0         0         0         0  \n",
      "4         0         0         0         0  \n",
      "\n",
      "[5 rows x 785 columns]\n"
     ]
    }
   ],
   "source": [
    "# Analisando o dataset\n",
    "print(\"Quantidade de elementos de treino: {}\". format(len(train)))\n",
    "print(train.head())"
   ]
  },
  {
   "cell_type": "code",
   "execution_count": 46,
   "metadata": {
    "execution": {
     "iopub.execute_input": "2021-02-15T13:54:05.295155Z",
     "iopub.status.busy": "2021-02-15T13:54:05.294185Z",
     "iopub.status.idle": "2021-02-15T13:54:05.298698Z",
     "shell.execute_reply": "2021-02-15T13:54:05.299322Z"
    },
    "papermill": {
     "duration": 0.126463,
     "end_time": "2021-02-15T13:54:05.299472",
     "exception": false,
     "start_time": "2021-02-15T13:54:05.173009",
     "status": "completed"
    },
    "tags": []
   },
   "outputs": [
    {
     "name": "stdout",
     "output_type": "stream",
     "text": [
      "   pixel0  pixel1  pixel2  pixel3  pixel4  pixel5  pixel6  pixel7  pixel8  \\\n",
      "0       0       0       0       0       0       0       0       0       0   \n",
      "1       0       0       0       0       0       0       0       0       0   \n",
      "2       0       0       0       0       0       0       0       0       0   \n",
      "3       0       0       0       0       0       0       0       0       0   \n",
      "4       0       0       0       0       0       0       0       0       0   \n",
      "\n",
      "   pixel9  ...  pixel774  pixel775  pixel776  pixel777  pixel778  pixel779  \\\n",
      "0       0  ...         0         0         0         0         0         0   \n",
      "1       0  ...         0         0         0         0         0         0   \n",
      "2       0  ...         0         0         0         0         0         0   \n",
      "3       0  ...         0         0         0         0         0         0   \n",
      "4       0  ...         0         0         0         0         0         0   \n",
      "\n",
      "   pixel780  pixel781  pixel782  pixel783  \n",
      "0         0         0         0         0  \n",
      "1         0         0         0         0  \n",
      "2         0         0         0         0  \n",
      "3         0         0         0         0  \n",
      "4         0         0         0         0  \n",
      "\n",
      "[5 rows x 784 columns]\n"
     ]
    }
   ],
   "source": [
    "# Separando x_train e y_train\n",
    "Y = train[\"label\"]\n",
    "X = train.drop(labels = [\"label\"],axis = 1)\n",
    "print(X.head())"
   ]
  },
  {
   "cell_type": "code",
   "execution_count": 47,
   "metadata": {
    "execution": {
     "iopub.execute_input": "2021-02-15T13:54:05.349923Z",
     "iopub.status.busy": "2021-02-15T13:54:05.349048Z",
     "iopub.status.idle": "2021-02-15T13:54:05.353692Z",
     "shell.execute_reply": "2021-02-15T13:54:05.353071Z"
    },
    "papermill": {
     "duration": 0.031867,
     "end_time": "2021-02-15T13:54:05.353812",
     "exception": false,
     "start_time": "2021-02-15T13:54:05.321945",
     "status": "completed"
    },
    "tags": []
   },
   "outputs": [
    {
     "name": "stdout",
     "output_type": "stream",
     "text": [
      "(42000, 784)\n"
     ]
    }
   ],
   "source": [
    "print(X.shape)"
   ]
  },
  {
   "cell_type": "code",
   "execution_count": 48,
   "metadata": {
    "ExecuteTime": {
     "end_time": "2019-01-08T20:49:47.144492Z",
     "start_time": "2019-01-08T20:49:47.016025Z"
    },
    "execution": {
     "iopub.execute_input": "2021-02-15T13:54:05.407649Z",
     "iopub.status.busy": "2021-02-15T13:54:05.406946Z",
     "iopub.status.idle": "2021-02-15T13:54:05.606712Z",
     "shell.execute_reply": "2021-02-15T13:54:05.605916Z"
    },
    "papermill": {
     "duration": 0.229373,
     "end_time": "2021-02-15T13:54:05.606856",
     "exception": false,
     "start_time": "2021-02-15T13:54:05.377483",
     "status": "completed"
    },
    "tags": []
   },
   "outputs": [
    {
     "data": {
      "image/png": "[encoded data removed]",
      "text/plain": [
       "<Figure size 640x480 with 1 Axes>"
      ]
     },
     "metadata": {},
     "output_type": "display_data"
    },
    {
     "name": "stdout",
     "output_type": "stream",
     "text": [
      "Label: 1\n"
     ]
    }
   ],
   "source": [
    "plt.imshow(X.values[0].reshape(28,28), cmap=plt.cm.binary)\n",
    "plt.show()\n",
    "print('Label: {}'.format(Y[0]))"
   ]
  },
  {
   "cell_type": "markdown",
   "metadata": {},
   "source": [
    "# Pré-processamento dos dados"
   ]
  },
  {
   "cell_type": "code",
   "execution_count": 49,
   "metadata": {
    "ExecuteTime": {
     "end_time": "2019-01-08T20:49:57.425537Z",
     "start_time": "2019-01-08T20:49:57.272377Z"
    },
    "execution": {
     "iopub.execute_input": "2021-02-15T13:54:05.659391Z",
     "iopub.status.busy": "2021-02-15T13:54:05.658297Z",
     "iopub.status.idle": "2021-02-15T13:54:05.734458Z",
     "shell.execute_reply": "2021-02-15T13:54:05.733785Z"
    },
    "papermill": {
     "duration": 0.104021,
     "end_time": "2021-02-15T13:54:05.734589",
     "exception": false,
     "start_time": "2021-02-15T13:54:05.630568",
     "status": "completed"
    },
    "tags": []
   },
   "outputs": [],
   "source": [
    "# Transformando a imagem 2d em um numpy array (imagem 28*28)\n",
    "x = X.values.reshape(42000, 28, 28, 1)\n",
    "\n",
    "#Normalizando para valores entre 0 e 1\n",
    "x = x.astype('float32')\n",
    "x /= 255\n",
    "\n",
    "#print(x[0])"
   ]
  },
  {
   "cell_type": "code",
   "execution_count": 50,
   "metadata": {
    "ExecuteTime": {
     "end_time": "2019-01-08T20:50:48.007428Z",
     "start_time": "2019-01-08T20:50:47.986527Z"
    },
    "execution": {
     "iopub.execute_input": "2021-02-15T13:54:05.787541Z",
     "iopub.status.busy": "2021-02-15T13:54:05.785355Z",
     "iopub.status.idle": "2021-02-15T13:54:05.790937Z",
     "shell.execute_reply": "2021-02-15T13:54:05.791871Z"
    },
    "papermill": {
     "duration": 0.034126,
     "end_time": "2021-02-15T13:54:05.792046",
     "exception": false,
     "start_time": "2021-02-15T13:54:05.757920",
     "status": "completed"
    },
    "tags": []
   },
   "outputs": [
    {
     "name": "stdout",
     "output_type": "stream",
     "text": [
      "[0. 1. 0. 0. 0. 0. 0. 0. 0. 0.]\n"
     ]
    }
   ],
   "source": [
    "# Vamos ajustar o formato da saida\n",
    "num_classes = 10\n",
    "\n",
    "# Convertendo para um vetor de saida com 10 dimensoes\n",
    "# ex. 8 => [0,0,0,0,0,0,0,0,1,0]\n",
    "y = keras.utils.to_categorical(Y, num_classes)\n",
    "print(y[0])"
   ]
  },
  {
   "cell_type": "code",
   "execution_count": 51,
   "metadata": {
    "execution": {
     "iopub.execute_input": "2021-02-15T13:54:05.845399Z",
     "iopub.status.busy": "2021-02-15T13:54:05.844546Z",
     "iopub.status.idle": "2021-02-15T13:54:06.182585Z",
     "shell.execute_reply": "2021-02-15T13:54:06.183372Z"
    },
    "papermill": {
     "duration": 0.367411,
     "end_time": "2021-02-15T13:54:06.183568",
     "exception": false,
     "start_time": "2021-02-15T13:54:05.816157",
     "status": "completed"
    },
    "tags": []
   },
   "outputs": [
    {
     "name": "stdout",
     "output_type": "stream",
     "text": [
      "Qtde de treino: 37800\n",
      "Qtde de validação: 4200\n"
     ]
    }
   ],
   "source": [
    "# Separando uma parte para treino (90%) e outra para validação (10%)\n",
    "x_train, x_val, y_train, y_val = train_test_split(x, y, test_size = 0.1, random_state=5)\n",
    "print('Qtde de treino: {}'.format(len(x_train)))\n",
    "print('Qtde de validação: {}'.format(len(x_val)))"
   ]
  },
  {
   "cell_type": "markdown",
   "metadata": {
    "papermill": {
     "duration": 0.025904,
     "end_time": "2021-02-15T13:54:06.235676",
     "exception": false,
     "start_time": "2021-02-15T13:54:06.209772",
     "status": "completed"
    },
    "tags": []
   },
   "source": [
    "# Criando e treinando o Modelo"
   ]
  },
  {
   "cell_type": "code",
   "execution_count": 52,
   "metadata": {
    "ExecuteTime": {
     "end_time": "2019-01-08T21:38:00.233865Z",
     "start_time": "2019-01-08T21:38:00.15079Z"
    },
    "execution": {
     "iopub.execute_input": "2021-02-15T13:54:06.293801Z",
     "iopub.status.busy": "2021-02-15T13:54:06.293084Z",
     "iopub.status.idle": "2021-02-15T13:54:09.190455Z",
     "shell.execute_reply": "2021-02-15T13:54:09.189593Z"
    },
    "papermill": {
     "duration": 2.929443,
     "end_time": "2021-02-15T13:54:09.190608",
     "exception": false,
     "start_time": "2021-02-15T13:54:06.261165",
     "status": "completed"
    },
    "scrolled": true,
    "tags": []
   },
   "outputs": [
    {
     "name": "stdout",
     "output_type": "stream",
     "text": [
      "Model: \"sequential_1\"\n",
      "_________________________________________________________________\n",
      " Layer (type)                Output Shape              Param #   \n",
      "=================================================================\n",
      " conv2d_2 (Conv2D)           (None, 26, 26, 20)        200       \n",
      "                                                                 \n",
      " max_pooling2d_1 (MaxPooling  (None, 13, 13, 20)       0         \n",
      " 2D)                                                             \n",
      "                                                                 \n",
      " conv2d_3 (Conv2D)           (None, 11, 11, 40)        7240      \n",
      "                                                                 \n",
      " flatten_1 (Flatten)         (None, 4840)              0         \n",
      "                                                                 \n",
      " dense_2 (Dense)             (None, 50)                242050    \n",
      "                                                                 \n",
      " dropout_1 (Dropout)         (None, 50)                0         \n",
      "                                                                 \n",
      " dense_3 (Dense)             (None, 10)                510       \n",
      "                                                                 \n",
      "=================================================================\n",
      "Total params: 250,000\n",
      "Trainable params: 250,000\n",
      "Non-trainable params: 0\n",
      "_________________________________________________________________\n"
     ]
    }
   ],
   "source": [
    "# Criando o modelo Sequential\n",
    "# Sequential: Modelo Keras de ir adicionando camadas (como um lego)\n",
    "# Conv2D: Camada com kernels (filtros) que percorrem a imagem extraindo caracterísitcas (mapas de caracteísticas)\n",
    "# MaxPooling2D: Camada que reduz a dimensionalidade dos mapas de características 2D\n",
    "# Flatten: Camada que transforma um mapa de características 2D num vetor para classficador final\n",
    "# Dense: Camada onde todas as entradas estão conectadas em cada neurônio (totalmente conectada)\n",
    "# Dropout: Camada usa durante treino que descarta aleatoriamente um percentual de conexões (reduz overfitting)\n",
    "\n",
    "model = Sequential()\n",
    "model.add(Conv2D(20, kernel_size=(3, 3),\n",
    "                 activation='relu',\n",
    "                 input_shape=(28,28,1)))\n",
    "model.add(MaxPooling2D(pool_size=(2, 2)))\n",
    "model.add(Conv2D(40, kernel_size=(3,3), activation='relu'))\n",
    "model.add(Flatten())\n",
    "model.add(Dense(50, activation='relu'))\n",
    "model.add(Dropout(0.2))\n",
    "model.add(Dense(num_classes, activation='softmax'))\n",
    "model.summary()"
   ]
  },
  {
   "cell_type": "code",
   "execution_count": 53,
   "metadata": {
    "ExecuteTime": {
     "end_time": "2019-01-08T21:33:17.184644Z",
     "start_time": "2019-01-08T21:33:17.129141Z"
    },
    "execution": {
     "iopub.execute_input": "2021-02-15T13:54:09.252728Z",
     "iopub.status.busy": "2021-02-15T13:54:09.251565Z",
     "iopub.status.idle": "2021-02-15T13:54:09.285176Z",
     "shell.execute_reply": "2021-02-15T13:54:09.284628Z"
    },
    "papermill": {
     "duration": 0.066516,
     "end_time": "2021-02-15T13:54:09.285295",
     "exception": false,
     "start_time": "2021-02-15T13:54:09.218779",
     "status": "completed"
    },
    "tags": []
   },
   "outputs": [],
   "source": [
    "# Compila o modelo\n",
    "model.compile(loss='categorical_crossentropy',\n",
    "              optimizer=RMSprop(),\n",
    "              metrics=['accuracy'])"
   ]
  },
  {
   "cell_type": "code",
   "execution_count": 54,
   "metadata": {
    "ExecuteTime": {
     "end_time": "2019-01-08T21:36:15.501168Z",
     "start_time": "2019-01-08T21:33:19.322895Z"
    },
    "execution": {
     "iopub.execute_input": "2021-02-15T13:54:09.345746Z",
     "iopub.status.busy": "2021-02-15T13:54:09.344979Z",
     "iopub.status.idle": "2021-02-15T13:55:30.093316Z",
     "shell.execute_reply": "2021-02-15T13:55:30.092796Z"
    },
    "papermill": {
     "duration": 80.782643,
     "end_time": "2021-02-15T13:55:30.093433",
     "exception": false,
     "start_time": "2021-02-15T13:54:09.310790",
     "status": "completed"
    },
    "tags": []
   },
   "outputs": [
    {
     "name": "stdout",
     "output_type": "stream",
     "text": [
      "Epoch 1/10\n",
      "  71/1182 [>.............................] - ETA: 6:11 - loss: 0.9700 - accuracy: 0.6937"
     ]
    },
    {
     "ename": "KeyboardInterrupt",
     "evalue": "",
     "output_type": "error",
     "traceback": [
      "\u001b[1;31m---------------------------------------------------------------------------\u001b[0m",
      "\u001b[1;31mKeyboardInterrupt\u001b[0m                         Traceback (most recent call last)",
      "Cell \u001b[1;32mIn[54], line 13\u001b[0m\n\u001b[0;32m      5\u001b[0m \u001b[38;5;66;03m#Salvar o melhor modelo\u001b[39;00m\n\u001b[0;32m      6\u001b[0m callbacks_list \u001b[38;5;241m=\u001b[39m [\n\u001b[0;32m      7\u001b[0m     keras\u001b[38;5;241m.\u001b[39mcallbacks\u001b[38;5;241m.\u001b[39mModelCheckpoint(\n\u001b[0;32m      8\u001b[0m         filepath\u001b[38;5;241m=\u001b[39m\u001b[38;5;124m'\u001b[39m\u001b[38;5;124mmodel.h5\u001b[39m\u001b[38;5;124m'\u001b[39m,\n\u001b[0;32m      9\u001b[0m         monitor\u001b[38;5;241m=\u001b[39m\u001b[38;5;124m'\u001b[39m\u001b[38;5;124mval_loss\u001b[39m\u001b[38;5;124m'\u001b[39m, save_best_only\u001b[38;5;241m=\u001b[39m\u001b[38;5;28;01mTrue\u001b[39;00m, verbose\u001b[38;5;241m=\u001b[39m\u001b[38;5;241m1\u001b[39m),\n\u001b[0;32m     10\u001b[0m     keras\u001b[38;5;241m.\u001b[39mcallbacks\u001b[38;5;241m.\u001b[39mEarlyStopping(monitor\u001b[38;5;241m=\u001b[39m\u001b[38;5;124m'\u001b[39m\u001b[38;5;124mval_loss\u001b[39m\u001b[38;5;124m'\u001b[39m, patience\u001b[38;5;241m=\u001b[39m\u001b[38;5;241m10\u001b[39m,verbose\u001b[38;5;241m=\u001b[39m\u001b[38;5;241m1\u001b[39m)\n\u001b[0;32m     11\u001b[0m ]\n\u001b[1;32m---> 13\u001b[0m history \u001b[38;5;241m=\u001b[39m \u001b[43mmodel\u001b[49m\u001b[38;5;241;43m.\u001b[39;49m\u001b[43mfit\u001b[49m\u001b[43m(\u001b[49m\u001b[43mx_train\u001b[49m\u001b[43m,\u001b[49m\u001b[43m \u001b[49m\u001b[43my_train\u001b[49m\u001b[43m,\u001b[49m\n\u001b[0;32m     14\u001b[0m \u001b[43m                    \u001b[49m\u001b[43mbatch_size\u001b[49m\u001b[38;5;241;43m=\u001b[39;49m\u001b[43mbatch_size\u001b[49m\u001b[43m,\u001b[49m\n\u001b[0;32m     15\u001b[0m \u001b[43m                    \u001b[49m\u001b[43mepochs\u001b[49m\u001b[38;5;241;43m=\u001b[39;49m\u001b[43mepochs\u001b[49m\u001b[43m,\u001b[49m\n\u001b[0;32m     16\u001b[0m \u001b[43m                    \u001b[49m\u001b[43mcallbacks\u001b[49m\u001b[43m \u001b[49m\u001b[38;5;241;43m=\u001b[39;49m\u001b[43m \u001b[49m\u001b[43mcallbacks_list\u001b[49m\u001b[43m,\u001b[49m\n\u001b[0;32m     17\u001b[0m \u001b[43m                    \u001b[49m\u001b[43mverbose\u001b[49m\u001b[38;5;241;43m=\u001b[39;49m\u001b[38;5;241;43m1\u001b[39;49m\u001b[43m,\u001b[49m\n\u001b[0;32m     18\u001b[0m \u001b[43m                    \u001b[49m\u001b[43mvalidation_data\u001b[49m\u001b[38;5;241;43m=\u001b[39;49m\u001b[43m(\u001b[49m\u001b[43mx_val\u001b[49m\u001b[43m,\u001b[49m\u001b[43m \u001b[49m\u001b[43my_val\u001b[49m\u001b[43m)\u001b[49m\u001b[43m)\u001b[49m\n",
      "File \u001b[1;32mc:\\Users\\WINDOWS11\\miniconda3\\envs\\jupyter\\lib\\site-packages\\keras\\utils\\traceback_utils.py:65\u001b[0m, in \u001b[0;36mfilter_traceback.<locals>.error_handler\u001b[1;34m(*args, **kwargs)\u001b[0m\n\u001b[0;32m     63\u001b[0m filtered_tb \u001b[38;5;241m=\u001b[39m \u001b[38;5;28;01mNone\u001b[39;00m\n\u001b[0;32m     64\u001b[0m \u001b[38;5;28;01mtry\u001b[39;00m:\n\u001b[1;32m---> 65\u001b[0m     \u001b[38;5;28;01mreturn\u001b[39;00m fn(\u001b[38;5;241m*\u001b[39margs, \u001b[38;5;241m*\u001b[39m\u001b[38;5;241m*\u001b[39mkwargs)\n\u001b[0;32m     66\u001b[0m \u001b[38;5;28;01mexcept\u001b[39;00m \u001b[38;5;167;01mException\u001b[39;00m \u001b[38;5;28;01mas\u001b[39;00m e:\n\u001b[0;32m     67\u001b[0m     filtered_tb \u001b[38;5;241m=\u001b[39m _process_traceback_frames(e\u001b[38;5;241m.\u001b[39m__traceback__)\n",
      "File \u001b[1;32mc:\\Users\\WINDOWS11\\miniconda3\\envs\\jupyter\\lib\\site-packages\\keras\\engine\\training.py:1564\u001b[0m, in \u001b[0;36mModel.fit\u001b[1;34m(self, x, y, batch_size, epochs, verbose, callbacks, validation_split, validation_data, shuffle, class_weight, sample_weight, initial_epoch, steps_per_epoch, validation_steps, validation_batch_size, validation_freq, max_queue_size, workers, use_multiprocessing)\u001b[0m\n\u001b[0;32m   1556\u001b[0m \u001b[38;5;28;01mwith\u001b[39;00m tf\u001b[38;5;241m.\u001b[39mprofiler\u001b[38;5;241m.\u001b[39mexperimental\u001b[38;5;241m.\u001b[39mTrace(\n\u001b[0;32m   1557\u001b[0m     \u001b[38;5;124m\"\u001b[39m\u001b[38;5;124mtrain\u001b[39m\u001b[38;5;124m\"\u001b[39m,\n\u001b[0;32m   1558\u001b[0m     epoch_num\u001b[38;5;241m=\u001b[39mepoch,\n\u001b[1;32m   (...)\u001b[0m\n\u001b[0;32m   1561\u001b[0m     _r\u001b[38;5;241m=\u001b[39m\u001b[38;5;241m1\u001b[39m,\n\u001b[0;32m   1562\u001b[0m ):\n\u001b[0;32m   1563\u001b[0m     callbacks\u001b[38;5;241m.\u001b[39mon_train_batch_begin(step)\n\u001b[1;32m-> 1564\u001b[0m     tmp_logs \u001b[38;5;241m=\u001b[39m \u001b[38;5;28;43mself\u001b[39;49m\u001b[38;5;241;43m.\u001b[39;49m\u001b[43mtrain_function\u001b[49m\u001b[43m(\u001b[49m\u001b[43miterator\u001b[49m\u001b[43m)\u001b[49m\n\u001b[0;32m   1565\u001b[0m     \u001b[38;5;28;01mif\u001b[39;00m data_handler\u001b[38;5;241m.\u001b[39mshould_sync:\n\u001b[0;32m   1566\u001b[0m         context\u001b[38;5;241m.\u001b[39masync_wait()\n",
      "File \u001b[1;32mc:\\Users\\WINDOWS11\\miniconda3\\envs\\jupyter\\lib\\site-packages\\tensorflow\\python\\util\\traceback_utils.py:150\u001b[0m, in \u001b[0;36mfilter_traceback.<locals>.error_handler\u001b[1;34m(*args, **kwargs)\u001b[0m\n\u001b[0;32m    148\u001b[0m filtered_tb \u001b[38;5;241m=\u001b[39m \u001b[38;5;28;01mNone\u001b[39;00m\n\u001b[0;32m    149\u001b[0m \u001b[38;5;28;01mtry\u001b[39;00m:\n\u001b[1;32m--> 150\u001b[0m   \u001b[38;5;28;01mreturn\u001b[39;00m fn(\u001b[38;5;241m*\u001b[39margs, \u001b[38;5;241m*\u001b[39m\u001b[38;5;241m*\u001b[39mkwargs)\n\u001b[0;32m    151\u001b[0m \u001b[38;5;28;01mexcept\u001b[39;00m \u001b[38;5;167;01mException\u001b[39;00m \u001b[38;5;28;01mas\u001b[39;00m e:\n\u001b[0;32m    152\u001b[0m   filtered_tb \u001b[38;5;241m=\u001b[39m _process_traceback_frames(e\u001b[38;5;241m.\u001b[39m__traceback__)\n",
      "File \u001b[1;32mc:\\Users\\WINDOWS11\\miniconda3\\envs\\jupyter\\lib\\site-packages\\tensorflow\\python\\eager\\def_function.py:915\u001b[0m, in \u001b[0;36mFunction.__call__\u001b[1;34m(self, *args, **kwds)\u001b[0m\n\u001b[0;32m    912\u001b[0m compiler \u001b[38;5;241m=\u001b[39m \u001b[38;5;124m\"\u001b[39m\u001b[38;5;124mxla\u001b[39m\u001b[38;5;124m\"\u001b[39m \u001b[38;5;28;01mif\u001b[39;00m \u001b[38;5;28mself\u001b[39m\u001b[38;5;241m.\u001b[39m_jit_compile \u001b[38;5;28;01melse\u001b[39;00m \u001b[38;5;124m\"\u001b[39m\u001b[38;5;124mnonXla\u001b[39m\u001b[38;5;124m\"\u001b[39m\n\u001b[0;32m    914\u001b[0m \u001b[38;5;28;01mwith\u001b[39;00m OptionalXlaContext(\u001b[38;5;28mself\u001b[39m\u001b[38;5;241m.\u001b[39m_jit_compile):\n\u001b[1;32m--> 915\u001b[0m   result \u001b[38;5;241m=\u001b[39m \u001b[38;5;28mself\u001b[39m\u001b[38;5;241m.\u001b[39m_call(\u001b[38;5;241m*\u001b[39margs, \u001b[38;5;241m*\u001b[39m\u001b[38;5;241m*\u001b[39mkwds)\n\u001b[0;32m    917\u001b[0m new_tracing_count \u001b[38;5;241m=\u001b[39m \u001b[38;5;28mself\u001b[39m\u001b[38;5;241m.\u001b[39mexperimental_get_tracing_count()\n\u001b[0;32m    918\u001b[0m without_tracing \u001b[38;5;241m=\u001b[39m (tracing_count \u001b[38;5;241m==\u001b[39m new_tracing_count)\n",
      "File \u001b[1;32mc:\\Users\\WINDOWS11\\miniconda3\\envs\\jupyter\\lib\\site-packages\\tensorflow\\python\\eager\\def_function.py:947\u001b[0m, in \u001b[0;36mFunction._call\u001b[1;34m(self, *args, **kwds)\u001b[0m\n\u001b[0;32m    944\u001b[0m   \u001b[38;5;28mself\u001b[39m\u001b[38;5;241m.\u001b[39m_lock\u001b[38;5;241m.\u001b[39mrelease()\n\u001b[0;32m    945\u001b[0m   \u001b[38;5;66;03m# In this case we have created variables on the first call, so we run the\u001b[39;00m\n\u001b[0;32m    946\u001b[0m   \u001b[38;5;66;03m# defunned version which is guaranteed to never create variables.\u001b[39;00m\n\u001b[1;32m--> 947\u001b[0m   \u001b[38;5;28;01mreturn\u001b[39;00m \u001b[38;5;28mself\u001b[39m\u001b[38;5;241m.\u001b[39m_stateless_fn(\u001b[38;5;241m*\u001b[39margs, \u001b[38;5;241m*\u001b[39m\u001b[38;5;241m*\u001b[39mkwds)  \u001b[38;5;66;03m# pylint: disable=not-callable\u001b[39;00m\n\u001b[0;32m    948\u001b[0m \u001b[38;5;28;01melif\u001b[39;00m \u001b[38;5;28mself\u001b[39m\u001b[38;5;241m.\u001b[39m_stateful_fn \u001b[38;5;129;01mis\u001b[39;00m \u001b[38;5;129;01mnot\u001b[39;00m \u001b[38;5;28;01mNone\u001b[39;00m:\n\u001b[0;32m    949\u001b[0m   \u001b[38;5;66;03m# Release the lock early so that multiple threads can perform the call\u001b[39;00m\n\u001b[0;32m    950\u001b[0m   \u001b[38;5;66;03m# in parallel.\u001b[39;00m\n\u001b[0;32m    951\u001b[0m   \u001b[38;5;28mself\u001b[39m\u001b[38;5;241m.\u001b[39m_lock\u001b[38;5;241m.\u001b[39mrelease()\n",
      "File \u001b[1;32mc:\\Users\\WINDOWS11\\miniconda3\\envs\\jupyter\\lib\\site-packages\\tensorflow\\python\\eager\\function.py:2496\u001b[0m, in \u001b[0;36mFunction.__call__\u001b[1;34m(self, *args, **kwargs)\u001b[0m\n\u001b[0;32m   2493\u001b[0m \u001b[38;5;28;01mwith\u001b[39;00m \u001b[38;5;28mself\u001b[39m\u001b[38;5;241m.\u001b[39m_lock:\n\u001b[0;32m   2494\u001b[0m   (graph_function,\n\u001b[0;32m   2495\u001b[0m    filtered_flat_args) \u001b[38;5;241m=\u001b[39m \u001b[38;5;28mself\u001b[39m\u001b[38;5;241m.\u001b[39m_maybe_define_function(args, kwargs)\n\u001b[1;32m-> 2496\u001b[0m \u001b[38;5;28;01mreturn\u001b[39;00m \u001b[43mgraph_function\u001b[49m\u001b[38;5;241;43m.\u001b[39;49m\u001b[43m_call_flat\u001b[49m\u001b[43m(\u001b[49m\n\u001b[0;32m   2497\u001b[0m \u001b[43m    \u001b[49m\u001b[43mfiltered_flat_args\u001b[49m\u001b[43m,\u001b[49m\u001b[43m \u001b[49m\u001b[43mcaptured_inputs\u001b[49m\u001b[38;5;241;43m=\u001b[39;49m\u001b[43mgraph_function\u001b[49m\u001b[38;5;241;43m.\u001b[39;49m\u001b[43mcaptured_inputs\u001b[49m\u001b[43m)\u001b[49m\n",
      "File \u001b[1;32mc:\\Users\\WINDOWS11\\miniconda3\\envs\\jupyter\\lib\\site-packages\\tensorflow\\python\\eager\\function.py:1862\u001b[0m, in \u001b[0;36mConcreteFunction._call_flat\u001b[1;34m(self, args, captured_inputs, cancellation_manager)\u001b[0m\n\u001b[0;32m   1858\u001b[0m possible_gradient_type \u001b[38;5;241m=\u001b[39m gradients_util\u001b[38;5;241m.\u001b[39mPossibleTapeGradientTypes(args)\n\u001b[0;32m   1859\u001b[0m \u001b[38;5;28;01mif\u001b[39;00m (possible_gradient_type \u001b[38;5;241m==\u001b[39m gradients_util\u001b[38;5;241m.\u001b[39mPOSSIBLE_GRADIENT_TYPES_NONE\n\u001b[0;32m   1860\u001b[0m     \u001b[38;5;129;01mand\u001b[39;00m executing_eagerly):\n\u001b[0;32m   1861\u001b[0m   \u001b[38;5;66;03m# No tape is watching; skip to running the function.\u001b[39;00m\n\u001b[1;32m-> 1862\u001b[0m   \u001b[38;5;28;01mreturn\u001b[39;00m \u001b[38;5;28mself\u001b[39m\u001b[38;5;241m.\u001b[39m_build_call_outputs(\u001b[38;5;28;43mself\u001b[39;49m\u001b[38;5;241;43m.\u001b[39;49m\u001b[43m_inference_function\u001b[49m\u001b[38;5;241;43m.\u001b[39;49m\u001b[43mcall\u001b[49m\u001b[43m(\u001b[49m\n\u001b[0;32m   1863\u001b[0m \u001b[43m      \u001b[49m\u001b[43mctx\u001b[49m\u001b[43m,\u001b[49m\u001b[43m \u001b[49m\u001b[43margs\u001b[49m\u001b[43m,\u001b[49m\u001b[43m \u001b[49m\u001b[43mcancellation_manager\u001b[49m\u001b[38;5;241;43m=\u001b[39;49m\u001b[43mcancellation_manager\u001b[49m\u001b[43m)\u001b[49m)\n\u001b[0;32m   1864\u001b[0m forward_backward \u001b[38;5;241m=\u001b[39m \u001b[38;5;28mself\u001b[39m\u001b[38;5;241m.\u001b[39m_select_forward_and_backward_functions(\n\u001b[0;32m   1865\u001b[0m     args,\n\u001b[0;32m   1866\u001b[0m     possible_gradient_type,\n\u001b[0;32m   1867\u001b[0m     executing_eagerly)\n\u001b[0;32m   1868\u001b[0m forward_function, args_with_tangents \u001b[38;5;241m=\u001b[39m forward_backward\u001b[38;5;241m.\u001b[39mforward()\n",
      "File \u001b[1;32mc:\\Users\\WINDOWS11\\miniconda3\\envs\\jupyter\\lib\\site-packages\\tensorflow\\python\\eager\\function.py:499\u001b[0m, in \u001b[0;36m_EagerDefinedFunction.call\u001b[1;34m(self, ctx, args, cancellation_manager)\u001b[0m\n\u001b[0;32m    497\u001b[0m \u001b[38;5;28;01mwith\u001b[39;00m _InterpolateFunctionError(\u001b[38;5;28mself\u001b[39m):\n\u001b[0;32m    498\u001b[0m   \u001b[38;5;28;01mif\u001b[39;00m cancellation_manager \u001b[38;5;129;01mis\u001b[39;00m \u001b[38;5;28;01mNone\u001b[39;00m:\n\u001b[1;32m--> 499\u001b[0m     outputs \u001b[38;5;241m=\u001b[39m \u001b[43mexecute\u001b[49m\u001b[38;5;241;43m.\u001b[39;49m\u001b[43mexecute\u001b[49m\u001b[43m(\u001b[49m\n\u001b[0;32m    500\u001b[0m \u001b[43m        \u001b[49m\u001b[38;5;28;43mstr\u001b[39;49m\u001b[43m(\u001b[49m\u001b[38;5;28;43mself\u001b[39;49m\u001b[38;5;241;43m.\u001b[39;49m\u001b[43msignature\u001b[49m\u001b[38;5;241;43m.\u001b[39;49m\u001b[43mname\u001b[49m\u001b[43m)\u001b[49m\u001b[43m,\u001b[49m\n\u001b[0;32m    501\u001b[0m \u001b[43m        \u001b[49m\u001b[43mnum_outputs\u001b[49m\u001b[38;5;241;43m=\u001b[39;49m\u001b[38;5;28;43mself\u001b[39;49m\u001b[38;5;241;43m.\u001b[39;49m\u001b[43m_num_outputs\u001b[49m\u001b[43m,\u001b[49m\n\u001b[0;32m    502\u001b[0m \u001b[43m        \u001b[49m\u001b[43minputs\u001b[49m\u001b[38;5;241;43m=\u001b[39;49m\u001b[43margs\u001b[49m\u001b[43m,\u001b[49m\n\u001b[0;32m    503\u001b[0m \u001b[43m        \u001b[49m\u001b[43mattrs\u001b[49m\u001b[38;5;241;43m=\u001b[39;49m\u001b[43mattrs\u001b[49m\u001b[43m,\u001b[49m\n\u001b[0;32m    504\u001b[0m \u001b[43m        \u001b[49m\u001b[43mctx\u001b[49m\u001b[38;5;241;43m=\u001b[39;49m\u001b[43mctx\u001b[49m\u001b[43m)\u001b[49m\n\u001b[0;32m    505\u001b[0m   \u001b[38;5;28;01melse\u001b[39;00m:\n\u001b[0;32m    506\u001b[0m     outputs \u001b[38;5;241m=\u001b[39m execute\u001b[38;5;241m.\u001b[39mexecute_with_cancellation(\n\u001b[0;32m    507\u001b[0m         \u001b[38;5;28mstr\u001b[39m(\u001b[38;5;28mself\u001b[39m\u001b[38;5;241m.\u001b[39msignature\u001b[38;5;241m.\u001b[39mname),\n\u001b[0;32m    508\u001b[0m         num_outputs\u001b[38;5;241m=\u001b[39m\u001b[38;5;28mself\u001b[39m\u001b[38;5;241m.\u001b[39m_num_outputs,\n\u001b[1;32m   (...)\u001b[0m\n\u001b[0;32m    511\u001b[0m         ctx\u001b[38;5;241m=\u001b[39mctx,\n\u001b[0;32m    512\u001b[0m         cancellation_manager\u001b[38;5;241m=\u001b[39mcancellation_manager)\n",
      "File \u001b[1;32mc:\\Users\\WINDOWS11\\miniconda3\\envs\\jupyter\\lib\\site-packages\\tensorflow\\python\\eager\\execute.py:54\u001b[0m, in \u001b[0;36mquick_execute\u001b[1;34m(op_name, num_outputs, inputs, attrs, ctx, name)\u001b[0m\n\u001b[0;32m     52\u001b[0m \u001b[38;5;28;01mtry\u001b[39;00m:\n\u001b[0;32m     53\u001b[0m   ctx\u001b[38;5;241m.\u001b[39mensure_initialized()\n\u001b[1;32m---> 54\u001b[0m   tensors \u001b[38;5;241m=\u001b[39m \u001b[43mpywrap_tfe\u001b[49m\u001b[38;5;241;43m.\u001b[39;49m\u001b[43mTFE_Py_Execute\u001b[49m\u001b[43m(\u001b[49m\u001b[43mctx\u001b[49m\u001b[38;5;241;43m.\u001b[39;49m\u001b[43m_handle\u001b[49m\u001b[43m,\u001b[49m\u001b[43m \u001b[49m\u001b[43mdevice_name\u001b[49m\u001b[43m,\u001b[49m\u001b[43m \u001b[49m\u001b[43mop_name\u001b[49m\u001b[43m,\u001b[49m\n\u001b[0;32m     55\u001b[0m \u001b[43m                                      \u001b[49m\u001b[43minputs\u001b[49m\u001b[43m,\u001b[49m\u001b[43m \u001b[49m\u001b[43mattrs\u001b[49m\u001b[43m,\u001b[49m\u001b[43m \u001b[49m\u001b[43mnum_outputs\u001b[49m\u001b[43m)\u001b[49m\n\u001b[0;32m     56\u001b[0m \u001b[38;5;28;01mexcept\u001b[39;00m core\u001b[38;5;241m.\u001b[39m_NotOkStatusException \u001b[38;5;28;01mas\u001b[39;00m e:\n\u001b[0;32m     57\u001b[0m   \u001b[38;5;28;01mif\u001b[39;00m name \u001b[38;5;129;01mis\u001b[39;00m \u001b[38;5;129;01mnot\u001b[39;00m \u001b[38;5;28;01mNone\u001b[39;00m:\n",
      "\u001b[1;31mKeyboardInterrupt\u001b[0m: "
     ]
    }
   ],
   "source": [
    "# Treina com os parte dos dados\n",
    "batch_size = 32\n",
    "epochs = 10\n",
    "\n",
    "#Salvar o melhor modelo\n",
    "callbacks_list = [\n",
    "    keras.callbacks.ModelCheckpoint(\n",
    "        filepath='model.h5',\n",
    "        monitor='val_loss', save_best_only=True, verbose=1),\n",
    "    keras.callbacks.EarlyStopping(monitor='val_loss', patience=10,verbose=1)\n",
    "]\n",
    "\n",
    "history = model.fit(x_train, y_train,\n",
    "                    batch_size=batch_size,\n",
    "                    epochs=epochs,\n",
    "                    callbacks = callbacks_list,\n",
    "                    verbose=1,\n",
    "                    validation_data=(x_val, y_val))"
   ]
  },
  {
   "cell_type": "markdown",
   "metadata": {},
   "source": [
    "# Analise do treinamento"
   ]
  },
  {
   "cell_type": "code",
   "execution_count": 19,
   "metadata": {
    "ExecuteTime": {
     "end_time": "2019-01-08T21:36:20.243921Z",
     "start_time": "2019-01-08T21:36:20.064201Z"
    },
    "execution": {
     "iopub.execute_input": "2021-02-15T13:55:31.229585Z",
     "iopub.status.busy": "2021-02-15T13:55:31.222430Z",
     "iopub.status.idle": "2021-02-15T13:55:31.605719Z",
     "shell.execute_reply": "2021-02-15T13:55:31.605138Z"
    },
    "papermill": {
     "duration": 0.956682,
     "end_time": "2021-02-15T13:55:31.605851",
     "exception": false,
     "start_time": "2021-02-15T13:55:30.649169",
     "status": "completed"
    },
    "tags": []
   },
   "outputs": [
    {
     "data": {
      "image/png": "[encoded data removed]",
      "text/plain": [
       "<Figure size 1600x800 with 2 Axes>"
      ]
     },
     "metadata": {},
     "output_type": "display_data"
    }
   ],
   "source": [
    "fig, ax = plt.subplots(1, 2, figsize=(16, 8))\n",
    "\n",
    "# Plot para o eixo da esquerda (perda - loss)\n",
    "ax[0].plot(history.history['loss'], color='b', label=\"Training loss\")\n",
    "ax[0].plot(history.history['val_loss'], color='r', label=\"Validation loss\")\n",
    "ax[0].legend(loc='best', shadow=True)\n",
    "ax[0].set_title(\"Loss\")\n",
    "ax[0].set_xlabel(\"Epochs\")\n",
    "ax[0].set_ylabel(\"Loss\")\n",
    "\n",
    "# Plot para o eixo da direita (acurácia - accuracy)\n",
    "ax[1].plot(history.history['accuracy'], color='b', label=\"Training accuracy\")\n",
    "ax[1].plot(history.history['val_accuracy'], color='r', label=\"Validation accuracy\")\n",
    "ax[1].legend(loc='best', shadow=True)\n",
    "ax[1].set_title(\"Accuracy\")\n",
    "ax[1].set_xlabel(\"Epochs\")\n",
    "ax[1].set_ylabel(\"Accuracy\")\n",
    "\n",
    "plt.show()\n"
   ]
  },
  {
   "cell_type": "code",
   "execution_count": 39,
   "metadata": {
    "execution": {
     "iopub.execute_input": "2021-02-15T13:55:32.786541Z",
     "iopub.status.busy": "2021-02-15T13:55:32.785737Z",
     "iopub.status.idle": "2021-02-15T13:55:33.302850Z",
     "shell.execute_reply": "2021-02-15T13:55:33.301573Z"
    },
    "papermill": {
     "duration": 1.084777,
     "end_time": "2021-02-15T13:55:33.303001",
     "exception": false,
     "start_time": "2021-02-15T13:55:32.218224",
     "status": "completed"
    },
    "tags": []
   },
   "outputs": [],
   "source": [
    "from tensorflow.keras.models import load_model\n",
    "# Salva o melhor modelo\n",
    "model = load_model('model.h5')"
   ]
  },
  {
   "cell_type": "markdown",
   "metadata": {},
   "source": [
    "# Testes"
   ]
  },
  {
   "cell_type": "code",
   "execution_count": 41,
   "metadata": {
    "ExecuteTime": {
     "end_time": "2019-01-08T21:36:39.779842Z",
     "start_time": "2019-01-08T21:36:38.946173Z"
    },
    "execution": {
     "iopub.execute_input": "2021-02-15T13:55:34.424517Z",
     "iopub.status.busy": "2021-02-15T13:55:34.423456Z",
     "iopub.status.idle": "2021-02-15T13:55:34.877303Z",
     "shell.execute_reply": "2021-02-15T13:55:34.876663Z"
    },
    "papermill": {
     "duration": 1.018842,
     "end_time": "2021-02-15T13:55:34.877431",
     "exception": false,
     "start_time": "2021-02-15T13:55:33.858589",
     "status": "completed"
    },
    "tags": []
   },
   "outputs": [
    {
     "name": "stdout",
     "output_type": "stream",
     "text": [
      "Test loss: 1.3980785608291626\n",
      "Test accuracy: 0.8519047498703003\n"
     ]
    }
   ],
   "source": [
    "score = model.evaluate(x_val, y_val, verbose=0)\n",
    "print('Test loss:', score[0])\n",
    "print('Test accuracy:', score[1])"
   ]
  },
  {
   "cell_type": "code",
   "execution_count": 23,
   "metadata": {
    "ExecuteTime": {
     "end_time": "2019-01-08T21:06:04.363715Z",
     "start_time": "2019-01-08T21:06:04.27849Z"
    },
    "execution": {
     "iopub.execute_input": "2021-02-15T13:55:36.053583Z",
     "iopub.status.busy": "2021-02-15T13:55:36.051882Z",
     "iopub.status.idle": "2021-02-15T13:55:36.167413Z",
     "shell.execute_reply": "2021-02-15T13:55:36.166527Z"
    },
    "papermill": {
     "duration": 0.729698,
     "end_time": "2021-02-15T13:55:36.167591",
     "exception": false,
     "start_time": "2021-02-15T13:55:35.437893",
     "status": "completed"
    },
    "tags": []
   },
   "outputs": [
    {
     "name": "stdout",
     "output_type": "stream",
     "text": [
      "[0. 0. 0. 0. 1. 0. 0. 0. 0. 0.]\n",
      "1/1 [==============================] - 0s 66ms/step\n",
      "[[2.2280659e-08 4.8403757e-07 2.1399418e-07 3.2061864e-09 9.9925071e-01\n",
      "  1.5536040e-06 6.1973650e-04 3.1140592e-06 1.2089019e-04 3.3550580e-06]]\n",
      "1/1 [==============================] - 0s 222ms/step\n",
      "[4]\n"
     ]
    }
   ],
   "source": [
    "# Testando uma entrada qualquer\n",
    "import numpy as np\n",
    "\n",
    "# Testando uma entrada qualquer\n",
    "print(y_train[10])  # Classe real\n",
    "print(model.predict(x_train[10].reshape((1, 28, 28, 1))))  # Probabilidades previstas\n",
    "\n",
    "predicted_class = np.argmax(model.predict(x_train[10].reshape((1, 28, 28, 1))), axis=1)\n",
    "print(predicted_class)  # Classe prevista\n"
   ]
  },
  {
   "cell_type": "markdown",
   "metadata": {
    "papermill": {
     "duration": 0.565893,
     "end_time": "2021-02-15T13:55:37.315705",
     "exception": false,
     "start_time": "2021-02-15T13:55:36.749812",
     "status": "completed"
    },
    "tags": []
   },
   "source": [
    "# Avaliando o Modelo"
   ]
  },
  {
   "cell_type": "code",
   "execution_count": 24,
   "metadata": {
    "execution": {
     "iopub.execute_input": "2021-02-15T13:55:38.485327Z",
     "iopub.status.busy": "2021-02-15T13:55:38.483082Z",
     "iopub.status.idle": "2021-02-15T13:55:38.486243Z",
     "shell.execute_reply": "2021-02-15T13:55:38.486767Z"
    },
    "papermill": {
     "duration": 0.584975,
     "end_time": "2021-02-15T13:55:38.486892",
     "exception": false,
     "start_time": "2021-02-15T13:55:37.901917",
     "status": "completed"
    },
    "tags": []
   },
   "outputs": [],
   "source": [
    "import itertools\n",
    "\n",
    "# Plot a confusão da matrix. Set Normalize = True/False\n",
    "def plot_confusion_matrix(cm, classes, normalize=True, title='Confusion matrix', cmap=plt.cm.Blues):\n",
    "    \"\"\"\n",
    "    This function prints and plots the confusion matrix.\n",
    "    Normalization can be applied by setting `normalize=True`.\n",
    "    \"\"\"\n",
    "    plt.figure(figsize=(10,10))\n",
    "    plt.imshow(cm, interpolation='nearest', cmap=cmap)\n",
    "    plt.title(title)\n",
    "    plt.colorbar()\n",
    "    tick_marks = np.arange(len(classes))\n",
    "    plt.xticks(tick_marks, classes, rotation=45)\n",
    "    plt.yticks(tick_marks, classes)\n",
    "    if normalize:\n",
    "        cm = cm.astype('float') / cm.sum(axis=1)[:, np.newaxis]\n",
    "        cm = np.around(cm, decimals=2)\n",
    "        cm[np.isnan(cm)] = 0.0\n",
    "    thresh = cm.max() / 2.\n",
    "    for i, j in itertools.product(range(cm.shape[0]), range(cm.shape[1])):\n",
    "        plt.text(j, i, cm[i, j],\n",
    "                 horizontalalignment=\"center\",\n",
    "                 color=\"white\" if cm[i, j] > thresh else \"black\")\n",
    "    plt.tight_layout()\n",
    "    plt.ylabel('True label')\n",
    "    plt.xlabel('Predicted label')"
   ]
  },
  {
   "cell_type": "code",
   "execution_count": 38,
   "metadata": {
    "ExecuteTime": {
     "end_time": "2019-01-08T21:24:57.7654Z",
     "start_time": "2019-01-08T21:24:57.220867Z"
    },
    "execution": {
     "iopub.execute_input": "2021-02-15T13:55:40.365601Z",
     "iopub.status.busy": "2021-02-15T13:55:40.364542Z",
     "iopub.status.idle": "2021-02-15T13:55:41.299066Z",
     "shell.execute_reply": "2021-02-15T13:55:41.298429Z"
    },
    "papermill": {
     "duration": 1.768517,
     "end_time": "2021-02-15T13:55:41.299190",
     "exception": false,
     "start_time": "2021-02-15T13:55:39.530673",
     "status": "completed"
    },
    "tags": []
   },
   "outputs": [
    {
     "name": "stdout",
     "output_type": "stream",
     "text": [
      "132/132 [==============================] - 1s 4ms/step\n",
      "Confusion Matrix:\n",
      "[[382   0   0   0   1  12   9   0  13   0]\n",
      " [  0 471   0   4   0   0   0   0   5   0]\n",
      " [ 15   3 316   9   5   0  30   4  25   1]\n",
      " [  5  10  11 339   0  23   3   8  36   2]\n",
      " [  0   3   0   0 307   1  16   1  13  50]\n",
      " [  7   9   1  16   2 295  12   1  31   3]\n",
      " [  3   9   3   0   4   4 386   0   4   0]\n",
      " [  3  12   6   1   2   1   0 401   8  16]\n",
      " [  0  18   0   5   0   6   4   4 344   0]\n",
      " [  9  12   1   6  23   2   1  33  22 337]]\n",
      "Classification Report:\n",
      "              precision    recall  f1-score   support\n",
      "\n",
      "           0       0.90      0.92      0.91       417\n",
      "           1       0.86      0.98      0.92       480\n",
      "           2       0.93      0.77      0.85       408\n",
      "           3       0.89      0.78      0.83       437\n",
      "           4       0.89      0.79      0.84       391\n",
      "           5       0.86      0.78      0.82       377\n",
      "           6       0.84      0.93      0.88       413\n",
      "           7       0.89      0.89      0.89       450\n",
      "           8       0.69      0.90      0.78       381\n",
      "           9       0.82      0.76      0.79       446\n",
      "\n",
      "    accuracy                           0.85      4200\n",
      "   macro avg       0.86      0.85      0.85      4200\n",
      "weighted avg       0.86      0.85      0.85      4200\n",
      "\n"
     ]
    }
   ],
   "source": [
    "from sklearn.metrics import confusion_matrix, classification_report\n",
    "import numpy as np\n",
    "\n",
    "# Classificando toda a base de teste\n",
    "y_pred = np.argmax(model.predict(x_val), axis=1)  # Obtendo as classes previstas\n",
    "y_test_c = np.argmax(y_val, axis=1)  # Convertendo o formato one-hot para classes\n",
    "\n",
    "# Nomes das classes (ajuste conforme necessário)\n",
    "target_names = ['0', '1', '2', '3', '4', '5', '6', '7', '8', '9']\n",
    "\n",
    "# Matriz de confusão\n",
    "cm = confusion_matrix(y_test_c, y_pred)\n",
    "print(\"Confusion Matrix:\")\n",
    "print(cm)\n",
    "\n",
    "# Relatório de classificação\n",
    "print(\"Classification Report:\")\n",
    "print(classification_report(y_test_c, y_pred, target_names=target_names))\n"
   ]
  },
  {
   "cell_type": "markdown",
   "metadata": {
    "papermill": {
     "duration": 0.575493,
     "end_time": "2021-02-15T13:55:42.507348",
     "exception": false,
     "start_time": "2021-02-15T13:55:41.931855",
     "status": "completed"
    },
    "tags": []
   },
   "source": [
    "# Gerando Saída"
   ]
  },
  {
   "cell_type": "code",
   "execution_count": 31,
   "metadata": {
    "execution": {
     "iopub.execute_input": "2021-02-15T13:55:43.643792Z",
     "iopub.status.busy": "2021-02-15T13:55:43.643051Z",
     "iopub.status.idle": "2021-02-15T13:55:47.887920Z",
     "shell.execute_reply": "2021-02-15T13:55:47.888753Z"
    },
    "papermill": {
     "duration": 4.817794,
     "end_time": "2021-02-15T13:55:47.888977",
     "exception": false,
     "start_time": "2021-02-15T13:55:43.071183",
     "status": "completed"
    },
    "tags": []
   },
   "outputs": [
    {
     "name": "stdout",
     "output_type": "stream",
     "text": [
      "Qtde de testes: 28000\n",
      "875/875 [==============================] - 188s 215ms/step\n"
     ]
    },
    {
     "data": {
      "image/png": "[encoded data removed]",
      "text/plain": [
       "<Figure size 640x480 with 1 Axes>"
      ]
     },
     "metadata": {},
     "output_type": "display_data"
    },
    {
     "data": {
      "image/png": "[encoded data removed]",
      "text/plain": [
       "<Figure size 640x480 with 1 Axes>"
      ]
     },
     "metadata": {},
     "output_type": "display_data"
    },
    {
     "data": {
      "image/png": "[encoded data removed]",
      "text/plain": [
       "<Figure size 640x480 with 1 Axes>"
      ]
     },
     "metadata": {},
     "output_type": "display_data"
    },
    {
     "data": {
      "image/png": "[encoded data removed]",
      "text/plain": [
       "<Figure size 640x480 with 1 Axes>"
      ]
     },
     "metadata": {},
     "output_type": "display_data"
    },
    {
     "name": "stdout",
     "output_type": "stream",
     "text": [
      "   ImageId  Label\n",
      "0        1      2\n",
      "1        2      0\n",
      "2        3      9\n",
      "3        4      9\n",
      "4        5      3\n"
     ]
    }
   ],
   "source": [
    "# Gerando saída para dataset de teste\n",
    "\n",
    "#Carrega dataset de teste\n",
    "test = pd.read_csv(\"./test.csv\")\n",
    "print(\"Qtde de testes: {}\".format(len(test)))\n",
    "# Bota no formato numpy e normaliza\n",
    "x_test = test.values.reshape(len(test),28,28,1)\n",
    "x_test = x_test.astype('float32')\n",
    "x_test /= 255\n",
    "\n",
    "# Faz classificação para dataset de teste\n",
    "y_pred = np.argmax(model.predict(x_test), axis=1)\n",
    "\n",
    "# Verificando algum exemplo\n",
    "indices = [0, 10, 25, 42]  # Escolha os índices que deseja verificar\n",
    "for i in indices:\n",
    "    plt.imshow(test.values[i].reshape(28, 28), cmap=plt.cm.binary)\n",
    "    plt.title(f\"Índice: {i}, Previsto: {y_pred[i]}\")\n",
    "    plt.show()\n",
    "\n",
    "# Botando no formato de saída\n",
    "results = pd.Series(y_pred, name=\"Label\")\n",
    "submission = pd.concat([pd.Series(range(1, len(y_pred) + 1), name=\"ImageId\"), results], axis=1)\n",
    "print(submission.head())\n",
    "\n",
    "# Salvando Arquivo\n",
    "submission.to_csv(\"saida.csv\", index=False)\n"
   ]
  },
  {
   "cell_type": "markdown",
   "metadata": {},
   "source": [
    "# Exemplos de casos externos"
   ]
  },
  {
   "cell_type": "code",
   "execution_count": 42,
   "metadata": {
    "papermill": {
     "duration": 0.559144,
     "end_time": "2021-02-15T13:55:53.431039",
     "exception": false,
     "start_time": "2021-02-15T13:55:52.871895",
     "status": "completed"
    },
    "tags": []
   },
   "outputs": [
    {
     "ename": "NameError",
     "evalue": "name 'testar_imagem_externa' is not defined",
     "output_type": "error",
     "traceback": [
      "\u001b[1;31m---------------------------------------------------------------------------\u001b[0m",
      "\u001b[1;31mNameError\u001b[0m                                 Traceback (most recent call last)",
      "Cell \u001b[1;32mIn[42], line 8\u001b[0m\n\u001b[0;32m      5\u001b[0m \u001b[38;5;28;01mfrom\u001b[39;00m \u001b[38;5;21;01mPIL\u001b[39;00m \u001b[38;5;28;01mimport\u001b[39;00m Image\n\u001b[0;32m      7\u001b[0m caminho \u001b[38;5;241m=\u001b[39m \u001b[38;5;124m'\u001b[39m\u001b[38;5;124m./teste.png\u001b[39m\u001b[38;5;124m'\u001b[39m\n\u001b[1;32m----> 8\u001b[0m \u001b[43mtestar_imagem_externa\u001b[49m(caminho, model)\n\u001b[0;32m     10\u001b[0m \u001b[38;5;28;01mdef\u001b[39;00m \u001b[38;5;21mtestar_imagem_externa\u001b[39m(caminho, modelo, num_classes\u001b[38;5;241m=\u001b[39m\u001b[38;5;241m10\u001b[39m):\n\u001b[0;32m     11\u001b[0m \u001b[38;5;250m    \u001b[39m\u001b[38;5;124;03m\"\"\"\u001b[39;00m\n\u001b[0;32m     12\u001b[0m \u001b[38;5;124;03m    Testa uma imagem fora do dataset de teste no modelo treinado.\u001b[39;00m\n\u001b[0;32m     13\u001b[0m \u001b[38;5;124;03m    \u001b[39;00m\n\u001b[1;32m   (...)\u001b[0m\n\u001b[0;32m     20\u001b[0m \u001b[38;5;124;03m        Nenhum. Mostra a imagem e imprime a classe prevista.\u001b[39;00m\n\u001b[0;32m     21\u001b[0m \u001b[38;5;124;03m    \"\"\"\u001b[39;00m\n",
      "\u001b[1;31mNameError\u001b[0m: name 'testar_imagem_externa' is not defined"
     ]
    }
   ],
   "source": [
    "import numpy as np\n",
    "import matplotlib.pyplot as plt\n",
    "from PIL import Image\n",
    "\n",
    "caminho = './testes-externos/cinco.png'\n",
    "testar_imagem_externa(caminho, model)\n",
    "\n",
    "def testar_imagem_externa(caminho, modelo, num_classes=10):\n",
    "    \"\"\"\n",
    "    Parâmetros:\n",
    "        caminho_imagem (str): Caminho para a imagem no disco.\n",
    "        modelo: O modelo treinado para realizar a previsão.\n",
    "        num_classes (int): Número de classes do modelo.\n",
    "    \"\"\"\n",
    "    # Carregar a imagem\n",
    "    img = Image.open(caminho).convert('L')  # Converter para escala de cinza\n",
    "    img = img.resize((28, 28))  # Redimensionar para 28x28 pixels\n",
    "    \n",
    "    # Visualizar a imagem carregada\n",
    "    plt.imshow(img, cmap='gray')\n",
    "    plt.title(\"Imagem carregada\")\n",
    "    plt.axis('off')\n",
    "    plt.show()\n",
    "    \n",
    "    # Pré-processar a imagem\n",
    "    img_array = np.array(img).astype('float32') / 255.0  # Normalizar os valores para [0, 1]\n",
    "    img_array = img_array.reshape(1, 28, 28, 1)  # Adicionar dimensões para batch e canais\n",
    "\n",
    "    # Fazer a previsão\n",
    "    previsoes = modelo.predict(img_array)\n",
    "    classe_prevista = np.argmax(previsoes, axis=1)[0]\n",
    "\n",
    "    print(f\"Classe prevista: {classe_prevista}\")\n",
    "    print(f\"Probabilidades para cada classe: {previsoes.flatten()}\")\n"
   ]
  }
 ],
 "metadata": {
  "kernelspec": {
   "display_name": "Python 3",
   "language": "python",
   "name": "python3"
  },
  "language_info": {
   "codemirror_mode": {
    "name": "ipython",
    "version": 3
   },
   "file_extension": ".py",
   "mimetype": "text/x-python",
   "name": "python",
   "nbconvert_exporter": "python",
   "pygments_lexer": "ipython3",
   "version": "3.9.0"
  },
  "papermill": {
   "duration": 124.873489,
   "end_time": "2021-02-15T13:55:55.570988",
   "environment_variables": {},
   "exception": null,
   "input_path": "__notebook__.ipynb",
   "output_path": "__notebook__.ipynb",
   "parameters": {},
   "start_time": "2021-02-15T13:53:50.697499",
   "version": "2.1.0"
  }
 },
 "nbformat": 4,
 "nbformat_minor": 4
}
