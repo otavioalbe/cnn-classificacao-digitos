{
 "cells": [
  {
   "cell_type": "markdown",
   "metadata": {
    "papermill": {
     "duration": 0.02067,
     "end_time": "2021-02-15T13:53:54.650474",
     "exception": false,
     "start_time": "2021-02-15T13:53:54.629804",
     "status": "completed"
    },
    "tags": []
   },
   "source": [
    "# Introdução"
   ]
  },
  {
   "cell_type": "markdown",
   "metadata": {
    "papermill": {
     "duration": 0.018509,
     "end_time": "2021-02-15T13:53:54.688497",
     "exception": false,
     "start_time": "2021-02-15T13:53:54.669988",
     "status": "completed"
    },
    "tags": []
   },
   "source": [
    "**Objetivo:**\n",
    "\n",
    "Este trabalho foi desenvolvido para a revolver o problema proposto no trabalho 2 de Aprendizado com a máquina, do professor Otávio Parraga. Implementamos por meio da biblioteca tensorflow/keras do python com redes neurais. O algoritmo utilizado é o CNN básico.\n",
    "\n",
    "**Alunos:**  Isadora Ferreira Guerra (22104296), Rodrigo Rosa Renck (22106811), Leonardo Preczevski Ramos (22107134), Gustavo Canellas Aveline Rocha (22106369), Otávio De Carli Albuquerque (22106750)"
   ]
  },
  {
   "cell_type": "markdown",
   "metadata": {
    "papermill": {
     "duration": 0.017625,
     "end_time": "2021-02-15T13:53:54.724935",
     "exception": false,
     "start_time": "2021-02-15T13:53:54.707310",
     "status": "completed"
    },
    "tags": []
   },
   "source": [
    "# Bibliotecas e Dados"
   ]
  },
  {
   "cell_type": "code",
   "execution_count": 1,
   "metadata": {
    "ExecuteTime": {
     "end_time": "2019-01-16T20:39:41.500258Z",
     "start_time": "2019-01-16T20:39:39.261856Z"
    },
    "execution": {
     "iopub.execute_input": "2021-02-15T13:53:54.772820Z",
     "iopub.status.busy": "2021-02-15T13:53:54.772017Z",
     "iopub.status.idle": "2021-02-15T13:54:00.965132Z",
     "shell.execute_reply": "2021-02-15T13:54:00.964004Z"
    },
    "papermill": {
     "duration": 6.221634,
     "end_time": "2021-02-15T13:54:00.965259",
     "exception": false,
     "start_time": "2021-02-15T13:53:54.743625",
     "status": "completed"
    },
    "tags": []
   },
   "outputs": [],
   "source": [
    "# Bibliotecas necessárias\n",
    "# Manipulação de dados\n",
    "import pandas as pd\n",
    "# Redes Neurais\n",
    "from tensorflow import keras\n",
    "from tensorflow.keras.datasets import mnist\n",
    "from tensorflow.keras.models import Sequential\n",
    "from tensorflow.keras.layers import Dense, Dropout, Conv2D, MaxPooling2D, Flatten\n",
    "from tensorflow.keras.optimizers import RMSprop\n",
    "# Plot\n",
    "import matplotlib.pyplot as plt\n",
    "%matplotlib inline\n",
    "# SkLearn\n",
    "from sklearn.model_selection import train_test_split"
   ]
  },
  {
   "cell_type": "code",
   "execution_count": 2,
   "metadata": {
    "execution": {
     "iopub.execute_input": "2021-02-15T13:54:01.035640Z",
     "iopub.status.busy": "2021-02-15T13:54:01.034669Z",
     "iopub.status.idle": "2021-02-15T13:54:05.088406Z",
     "shell.execute_reply": "2021-02-15T13:54:05.087160Z"
    },
    "papermill": {
     "duration": 4.091098,
     "end_time": "2021-02-15T13:54:05.088536",
     "exception": false,
     "start_time": "2021-02-15T13:54:00.997438",
     "status": "completed"
    },
    "tags": []
   },
   "outputs": [],
   "source": [
    "# Ler dataset\n",
    "train = pd.read_csv(\"./train.csv\")"
   ]
  },
  {
   "cell_type": "markdown",
   "metadata": {},
   "source": [
    "# Analise do dataset"
   ]
  },
  {
   "cell_type": "code",
   "execution_count": 3,
   "metadata": {
    "execution": {
     "iopub.execute_input": "2021-02-15T13:54:05.146765Z",
     "iopub.status.busy": "2021-02-15T13:54:05.145901Z",
     "iopub.status.idle": "2021-02-15T13:54:05.152034Z",
     "shell.execute_reply": "2021-02-15T13:54:05.151493Z"
    },
    "papermill": {
     "duration": 0.042348,
     "end_time": "2021-02-15T13:54:05.152142",
     "exception": false,
     "start_time": "2021-02-15T13:54:05.109794",
     "status": "completed"
    },
    "tags": []
   },
   "outputs": [
    {
     "name": "stdout",
     "output_type": "stream",
     "text": [
      "Quantidade de elementos de treino: 42000\n",
      "   label  pixel0  pixel1  pixel2  pixel3  pixel4  pixel5  pixel6  pixel7  \\\n",
      "0      1       0       0       0       0       0       0       0       0   \n",
      "1      0       0       0       0       0       0       0       0       0   \n",
      "2      1       0       0       0       0       0       0       0       0   \n",
      "3      4       0       0       0       0       0       0       0       0   \n",
      "4      0       0       0       0       0       0       0       0       0   \n",
      "\n",
      "   pixel8  ...  pixel774  pixel775  pixel776  pixel777  pixel778  pixel779  \\\n",
      "0       0  ...         0         0         0         0         0         0   \n",
      "1       0  ...         0         0         0         0         0         0   \n",
      "2       0  ...         0         0         0         0         0         0   \n",
      "3       0  ...         0         0         0         0         0         0   \n",
      "4       0  ...         0         0         0         0         0         0   \n",
      "\n",
      "   pixel780  pixel781  pixel782  pixel783  \n",
      "0         0         0         0         0  \n",
      "1         0         0         0         0  \n",
      "2         0         0         0         0  \n",
      "3         0         0         0         0  \n",
      "4         0         0         0         0  \n",
      "\n",
      "[5 rows x 785 columns]\n"
     ]
    }
   ],
   "source": [
    "# Analisando o dataset\n",
    "print(\"Quantidade de elementos de treino: {}\". format(len(train)))\n",
    "print(train.head())"
   ]
  },
  {
   "cell_type": "code",
   "execution_count": 4,
   "metadata": {
    "execution": {
     "iopub.execute_input": "2021-02-15T13:54:05.295155Z",
     "iopub.status.busy": "2021-02-15T13:54:05.294185Z",
     "iopub.status.idle": "2021-02-15T13:54:05.298698Z",
     "shell.execute_reply": "2021-02-15T13:54:05.299322Z"
    },
    "papermill": {
     "duration": 0.126463,
     "end_time": "2021-02-15T13:54:05.299472",
     "exception": false,
     "start_time": "2021-02-15T13:54:05.173009",
     "status": "completed"
    },
    "tags": []
   },
   "outputs": [
    {
     "name": "stdout",
     "output_type": "stream",
     "text": [
      "   pixel0  pixel1  pixel2  pixel3  pixel4  pixel5  pixel6  pixel7  pixel8  \\\n",
      "0       0       0       0       0       0       0       0       0       0   \n",
      "1       0       0       0       0       0       0       0       0       0   \n",
      "2       0       0       0       0       0       0       0       0       0   \n",
      "3       0       0       0       0       0       0       0       0       0   \n",
      "4       0       0       0       0       0       0       0       0       0   \n",
      "\n",
      "   pixel9  ...  pixel774  pixel775  pixel776  pixel777  pixel778  pixel779  \\\n",
      "0       0  ...         0         0         0         0         0         0   \n",
      "1       0  ...         0         0         0         0         0         0   \n",
      "2       0  ...         0         0         0         0         0         0   \n",
      "3       0  ...         0         0         0         0         0         0   \n",
      "4       0  ...         0         0         0         0         0         0   \n",
      "\n",
      "   pixel780  pixel781  pixel782  pixel783  \n",
      "0         0         0         0         0  \n",
      "1         0         0         0         0  \n",
      "2         0         0         0         0  \n",
      "3         0         0         0         0  \n",
      "4         0         0         0         0  \n",
      "\n",
      "[5 rows x 784 columns]\n"
     ]
    }
   ],
   "source": [
    "# Separando x_train e y_train\n",
    "Y = train[\"label\"]\n",
    "X = train.drop(labels = [\"label\"],axis = 1)\n",
    "print(X.head())"
   ]
  },
  {
   "cell_type": "code",
   "execution_count": 5,
   "metadata": {
    "execution": {
     "iopub.execute_input": "2021-02-15T13:54:05.349923Z",
     "iopub.status.busy": "2021-02-15T13:54:05.349048Z",
     "iopub.status.idle": "2021-02-15T13:54:05.353692Z",
     "shell.execute_reply": "2021-02-15T13:54:05.353071Z"
    },
    "papermill": {
     "duration": 0.031867,
     "end_time": "2021-02-15T13:54:05.353812",
     "exception": false,
     "start_time": "2021-02-15T13:54:05.321945",
     "status": "completed"
    },
    "tags": []
   },
   "outputs": [
    {
     "name": "stdout",
     "output_type": "stream",
     "text": [
      "(42000, 784)\n"
     ]
    }
   ],
   "source": [
    "print(X.shape)"
   ]
  },
  {
   "cell_type": "code",
   "execution_count": 6,
   "metadata": {
    "ExecuteTime": {
     "end_time": "2019-01-08T20:49:47.144492Z",
     "start_time": "2019-01-08T20:49:47.016025Z"
    },
    "execution": {
     "iopub.execute_input": "2021-02-15T13:54:05.407649Z",
     "iopub.status.busy": "2021-02-15T13:54:05.406946Z",
     "iopub.status.idle": "2021-02-15T13:54:05.606712Z",
     "shell.execute_reply": "2021-02-15T13:54:05.605916Z"
    },
    "papermill": {
     "duration": 0.229373,
     "end_time": "2021-02-15T13:54:05.606856",
     "exception": false,
     "start_time": "2021-02-15T13:54:05.377483",
     "status": "completed"
    },
    "tags": []
   },
   "outputs": [
    {
     "data": {
      "image/png": "[encoded data removed]",
      "text/plain": [
       "<Figure size 640x480 with 1 Axes>"
      ]
     },
     "metadata": {},
     "output_type": "display_data"
    },
    {
     "name": "stdout",
     "output_type": "stream",
     "text": [
      "Label: 1\n"
     ]
    }
   ],
   "source": [
    "plt.imshow(X.values[0].reshape(28,28), cmap=plt.cm.binary)\n",
    "plt.show()\n",
    "print('Label: {}'.format(Y[0]))"
   ]
  },
  {
   "cell_type": "markdown",
   "metadata": {},
   "source": [
    "# Pré-processamento dos dados"
   ]
  },
  {
   "cell_type": "code",
   "execution_count": 7,
   "metadata": {
    "ExecuteTime": {
     "end_time": "2019-01-08T20:49:57.425537Z",
     "start_time": "2019-01-08T20:49:57.272377Z"
    },
    "execution": {
     "iopub.execute_input": "2021-02-15T13:54:05.659391Z",
     "iopub.status.busy": "2021-02-15T13:54:05.658297Z",
     "iopub.status.idle": "2021-02-15T13:54:05.734458Z",
     "shell.execute_reply": "2021-02-15T13:54:05.733785Z"
    },
    "papermill": {
     "duration": 0.104021,
     "end_time": "2021-02-15T13:54:05.734589",
     "exception": false,
     "start_time": "2021-02-15T13:54:05.630568",
     "status": "completed"
    },
    "tags": []
   },
   "outputs": [],
   "source": [
    "# Transformando a imagem 2d em um numpy array (imagem 28*28)\n",
    "x = X.values.reshape(42000, 28, 28, 1)\n",
    "\n",
    "#Normalizando para valores entre 0 e 1\n",
    "x = x.astype('float32')\n",
    "x /= 255\n",
    "\n",
    "#print(x[0])"
   ]
  },
  {
   "cell_type": "code",
   "execution_count": 8,
   "metadata": {
    "ExecuteTime": {
     "end_time": "2019-01-08T20:50:48.007428Z",
     "start_time": "2019-01-08T20:50:47.986527Z"
    },
    "execution": {
     "iopub.execute_input": "2021-02-15T13:54:05.787541Z",
     "iopub.status.busy": "2021-02-15T13:54:05.785355Z",
     "iopub.status.idle": "2021-02-15T13:54:05.790937Z",
     "shell.execute_reply": "2021-02-15T13:54:05.791871Z"
    },
    "papermill": {
     "duration": 0.034126,
     "end_time": "2021-02-15T13:54:05.792046",
     "exception": false,
     "start_time": "2021-02-15T13:54:05.757920",
     "status": "completed"
    },
    "tags": []
   },
   "outputs": [
    {
     "name": "stdout",
     "output_type": "stream",
     "text": [
      "[0. 1. 0. 0. 0. 0. 0. 0. 0. 0.]\n"
     ]
    }
   ],
   "source": [
    "# Vamos ajustar o formato da saida\n",
    "num_classes = 10\n",
    "\n",
    "# Convertendo para um vetor de saida com 10 dimensoes\n",
    "# ex. 8 => [0,0,0,0,0,0,0,0,1,0]\n",
    "y = keras.utils.to_categorical(Y, num_classes)\n",
    "print(y[0])"
   ]
  },
  {
   "cell_type": "code",
   "execution_count": 9,
   "metadata": {
    "execution": {
     "iopub.execute_input": "2021-02-15T13:54:05.845399Z",
     "iopub.status.busy": "2021-02-15T13:54:05.844546Z",
     "iopub.status.idle": "2021-02-15T13:54:06.182585Z",
     "shell.execute_reply": "2021-02-15T13:54:06.183372Z"
    },
    "papermill": {
     "duration": 0.367411,
     "end_time": "2021-02-15T13:54:06.183568",
     "exception": false,
     "start_time": "2021-02-15T13:54:05.816157",
     "status": "completed"
    },
    "tags": []
   },
   "outputs": [
    {
     "name": "stdout",
     "output_type": "stream",
     "text": [
      "Qtde de treino: 37800\n",
      "Qtde de validação: 4200\n"
     ]
    }
   ],
   "source": [
    "# Separando uma parte para treino (90%) e outra para validação (10%)\n",
    "from sklearn.model_selection import train_test_split\n",
    "x_train, x_val, y_train, y_val = train_test_split(x, y, test_size = 0.1, random_state=5)\n",
    "print('Qtde de treino: {}'.format(len(x_train)))\n",
    "print('Qtde de validação: {}'.format(len(x_val)))"
   ]
  },
  {
   "cell_type": "markdown",
   "metadata": {
    "papermill": {
     "duration": 0.025904,
     "end_time": "2021-02-15T13:54:06.235676",
     "exception": false,
     "start_time": "2021-02-15T13:54:06.209772",
     "status": "completed"
    },
    "tags": []
   },
   "source": [
    "# Criando e treinando o Modelo"
   ]
  },
  {
   "cell_type": "code",
   "execution_count": 16,
   "metadata": {
    "ExecuteTime": {
     "end_time": "2019-01-08T21:38:00.233865Z",
     "start_time": "2019-01-08T21:38:00.15079Z"
    },
    "execution": {
     "iopub.execute_input": "2021-02-15T13:54:06.293801Z",
     "iopub.status.busy": "2021-02-15T13:54:06.293084Z",
     "iopub.status.idle": "2021-02-15T13:54:09.190455Z",
     "shell.execute_reply": "2021-02-15T13:54:09.189593Z"
    },
    "papermill": {
     "duration": 2.929443,
     "end_time": "2021-02-15T13:54:09.190608",
     "exception": false,
     "start_time": "2021-02-15T13:54:06.261165",
     "status": "completed"
    },
    "scrolled": true,
    "tags": []
   },
   "outputs": [
    {
     "name": "stdout",
     "output_type": "stream",
     "text": [
      "Model: \"sequential_1\"\n",
      "_________________________________________________________________\n",
      " Layer (type)                Output Shape              Param #   \n",
      "=================================================================\n",
      " conv2d_2 (Conv2D)           (None, 26, 26, 32)        320       \n",
      "                                                                 \n",
      " max_pooling2d_1 (MaxPooling  (None, 13, 13, 32)       0         \n",
      " 2D)                                                             \n",
      "                                                                 \n",
      " conv2d_3 (Conv2D)           (None, 11, 11, 64)        18496     \n",
      "                                                                 \n",
      " flatten_1 (Flatten)         (None, 7744)              0         \n",
      "                                                                 \n",
      " dense_2 (Dense)             (None, 50)                387250    \n",
      "                                                                 \n",
      " dropout_1 (Dropout)         (None, 50)                0         \n",
      "                                                                 \n",
      " dense_3 (Dense)             (None, 10)                510       \n",
      "                                                                 \n",
      "=================================================================\n",
      "Total params: 406,576\n",
      "Trainable params: 406,576\n",
      "Non-trainable params: 0\n",
      "_________________________________________________________________\n"
     ]
    }
   ],
   "source": [
    "# Criando o modelo Sequential\n",
    "# Sequential: Modelo Keras de ir adicionando camadas (como um lego)\n",
    "# Conv2D: Camada com kernels (filtros) que percorrem a imagem extraindo caracterísitcas (mapas de caracteísticas)\n",
    "# MaxPooling2D: Camada que reduz a dimensionalidade dos mapas de características 2D\n",
    "# Flatten: Camada que transforma um mapa de características 2D num vetor para classficador final\n",
    "# Dense: Camada onde todas as entradas estão conectadas em cada neurônio (totalmente conectada)\n",
    "# Dropout: Camada usa durante treino que descarta aleatoriamente um percentual de conexões (reduz overfitting)\n",
    "\n",
    "from tensorflow.keras.models import Sequential\n",
    "from tensorflow.keras.layers import Conv2D, MaxPooling2D, Flatten, Dense, Dropout\n",
    "from tensorflow.keras.regularizers import l2\n",
    "\n",
    "model = Sequential()\n",
    "model.add(Conv2D(32, (3, 3), input_shape=(28, 28, 1), activation='relu', kernel_regularizer=l2(0.1)))\n",
    "model.add(MaxPooling2D(pool_size=(2, 2)))\n",
    "model.add(Conv2D(64, (3, 3), activation='relu', kernel_regularizer=l2(0.1)))\n",
    "model.add(Flatten())\n",
    "model.add(Dense(50, activation='relu', kernel_regularizer=l2(0.1)))\n",
    "model.add(Dropout(0.2))\n",
    "model.add(Dense(num_classes, activation='softmax', kernel_regularizer=l2(0.1)))\n",
    "model.summary()"
   ]
  },
  {
   "cell_type": "code",
   "execution_count": 17,
   "metadata": {
    "ExecuteTime": {
     "end_time": "2019-01-08T21:33:17.184644Z",
     "start_time": "2019-01-08T21:33:17.129141Z"
    },
    "execution": {
     "iopub.execute_input": "2021-02-15T13:54:09.252728Z",
     "iopub.status.busy": "2021-02-15T13:54:09.251565Z",
     "iopub.status.idle": "2021-02-15T13:54:09.285176Z",
     "shell.execute_reply": "2021-02-15T13:54:09.284628Z"
    },
    "papermill": {
     "duration": 0.066516,
     "end_time": "2021-02-15T13:54:09.285295",
     "exception": false,
     "start_time": "2021-02-15T13:54:09.218779",
     "status": "completed"
    },
    "tags": []
   },
   "outputs": [],
   "source": [
    "# Compila o modelo\n",
    "model.compile(loss='categorical_crossentropy',\n",
    "              optimizer=RMSprop(),\n",
    "              metrics=['accuracy'])"
   ]
  },
  {
   "cell_type": "code",
   "execution_count": 18,
   "metadata": {
    "ExecuteTime": {
     "end_time": "2019-01-08T21:36:15.501168Z",
     "start_time": "2019-01-08T21:33:19.322895Z"
    },
    "execution": {
     "iopub.execute_input": "2021-02-15T13:54:09.345746Z",
     "iopub.status.busy": "2021-02-15T13:54:09.344979Z",
     "iopub.status.idle": "2021-02-15T13:55:30.093316Z",
     "shell.execute_reply": "2021-02-15T13:55:30.092796Z"
    },
    "papermill": {
     "duration": 80.782643,
     "end_time": "2021-02-15T13:55:30.093433",
     "exception": false,
     "start_time": "2021-02-15T13:54:09.310790",
     "status": "completed"
    },
    "tags": []
   },
   "outputs": [
    {
     "name": "stdout",
     "output_type": "stream",
     "text": [
      "Epoch 1/3\n",
      "1182/1182 [==============================] - ETA: 0s - loss: 1.8642 - accuracy: 0.7600\n",
      "Epoch 1: val_loss improved from inf to 1.58119, saving model to model.h5\n",
      "1182/1182 [==============================] - 337s 284ms/step - loss: 1.8642 - accuracy: 0.7600 - val_loss: 1.5812 - val_accuracy: 0.7631\n",
      "Epoch 2/3\n",
      "1182/1182 [==============================] - ETA: 0s - loss: 1.5007 - accuracy: 0.8019\n",
      "Epoch 2: val_loss improved from 1.58119 to 1.50456, saving model to model.h5\n",
      "1182/1182 [==============================] - 315s 266ms/step - loss: 1.5007 - accuracy: 0.8019 - val_loss: 1.5046 - val_accuracy: 0.7838\n",
      "Epoch 3/3\n",
      "1182/1182 [==============================] - ETA: 0s - loss: 1.4772 - accuracy: 0.8121\n",
      "Epoch 3: val_loss improved from 1.50456 to 1.39808, saving model to model.h5\n",
      "1182/1182 [==============================] - 358s 303ms/step - loss: 1.4772 - accuracy: 0.8121 - val_loss: 1.3981 - val_accuracy: 0.8519\n"
     ]
    }
   ],
   "source": [
    "# Treina com os parte dos dados\n",
    "batch_size = 32\n",
    "epochs = 3\n",
    "\n",
    "#Salvar o melhor modelo\n",
    "callbacks_list = [\n",
    "    keras.callbacks.ModelCheckpoint(\n",
    "        filepath='model.h5',\n",
    "        monitor='val_loss', save_best_only=True, verbose=1),\n",
    "    keras.callbacks.EarlyStopping(monitor='val_loss', patience=10,verbose=1)\n",
    "]\n",
    "\n",
    "history = model.fit(x_train, y_train,\n",
    "                    batch_size=batch_size,\n",
    "                    epochs=epochs,\n",
    "                    callbacks = callbacks_list,\n",
    "                    verbose=1,\n",
    "                    validation_data=(x_val, y_val))"
   ]
  },
  {
   "cell_type": "markdown",
   "metadata": {},
   "source": [
    "# Analise do treinamento"
   ]
  },
  {
   "cell_type": "code",
   "execution_count": 19,
   "metadata": {
    "ExecuteTime": {
     "end_time": "2019-01-08T21:36:20.243921Z",
     "start_time": "2019-01-08T21:36:20.064201Z"
    },
    "execution": {
     "iopub.execute_input": "2021-02-15T13:55:31.229585Z",
     "iopub.status.busy": "2021-02-15T13:55:31.222430Z",
     "iopub.status.idle": "2021-02-15T13:55:31.605719Z",
     "shell.execute_reply": "2021-02-15T13:55:31.605138Z"
    },
    "papermill": {
     "duration": 0.956682,
     "end_time": "2021-02-15T13:55:31.605851",
     "exception": false,
     "start_time": "2021-02-15T13:55:30.649169",
     "status": "completed"
    },
    "tags": []
   },
   "outputs": [
    {
     "data": {
      "image/png": "[encoded data removed]",
      "text/plain": [
       "<Figure size 1600x800 with 2 Axes>"
      ]
     },
     "metadata": {},
     "output_type": "display_data"
    }
   ],
   "source": [
    "fig, ax = plt.subplots(1, 2, figsize=(16, 8))\n",
    "\n",
    "# Plot para o eixo da esquerda (perda - loss)\n",
    "ax[0].plot(history.history['loss'], color='b', label=\"Training loss\")\n",
    "ax[0].plot(history.history['val_loss'], color='r', label=\"Validation loss\")\n",
    "ax[0].legend(loc='best', shadow=True)\n",
    "ax[0].set_title(\"Loss\")\n",
    "ax[0].set_xlabel(\"Epochs\")\n",
    "ax[0].set_ylabel(\"Loss\")\n",
    "\n",
    "# Plot para o eixo da direita (acurácia - accuracy)\n",
    "ax[1].plot(history.history['accuracy'], color='b', label=\"Training accuracy\")\n",
    "ax[1].plot(history.history['val_accuracy'], color='r', label=\"Validation accuracy\")\n",
    "ax[1].legend(loc='best', shadow=True)\n",
    "ax[1].set_title(\"Accuracy\")\n",
    "ax[1].set_xlabel(\"Epochs\")\n",
    "ax[1].set_ylabel(\"Accuracy\")\n",
    "\n",
    "plt.show()\n"
   ]
  },
  {
   "cell_type": "code",
   "execution_count": 14,
   "metadata": {
    "execution": {
     "iopub.execute_input": "2021-02-15T13:55:32.786541Z",
     "iopub.status.busy": "2021-02-15T13:55:32.785737Z",
     "iopub.status.idle": "2021-02-15T13:55:33.302850Z",
     "shell.execute_reply": "2021-02-15T13:55:33.301573Z"
    },
    "papermill": {
     "duration": 1.084777,
     "end_time": "2021-02-15T13:55:33.303001",
     "exception": false,
     "start_time": "2021-02-15T13:55:32.218224",
     "status": "completed"
    },
    "tags": []
   },
   "outputs": [],
   "source": [
    "from tensorflow.keras.models import load_model\n",
    "# Salva o melhor modelo\n",
    "model = load_model('model_regularizado.h5')"
   ]
  },
  {
   "cell_type": "markdown",
   "metadata": {},
   "source": [
    "# Testes"
   ]
  },
  {
   "cell_type": "code",
   "execution_count": 15,
   "metadata": {
    "ExecuteTime": {
     "end_time": "2019-01-08T21:36:39.779842Z",
     "start_time": "2019-01-08T21:36:38.946173Z"
    },
    "execution": {
     "iopub.execute_input": "2021-02-15T13:55:34.424517Z",
     "iopub.status.busy": "2021-02-15T13:55:34.423456Z",
     "iopub.status.idle": "2021-02-15T13:55:34.877303Z",
     "shell.execute_reply": "2021-02-15T13:55:34.876663Z"
    },
    "papermill": {
     "duration": 1.018842,
     "end_time": "2021-02-15T13:55:34.877431",
     "exception": false,
     "start_time": "2021-02-15T13:55:33.858589",
     "status": "completed"
    },
    "tags": []
   },
   "outputs": [
    {
     "name": "stdout",
     "output_type": "stream",
     "text": [
      "Test loss: 0.04319210219363283\n",
      "Test accuracy: 0.98714286\n"
     ]
    }
   ],
   "source": [
    "score = model.evaluate(x_val, y_val, verbose=0)\n",
    "print('Test loss:', score[0])\n",
    "print('Test accuracy:', score[1])"
   ]
  },
  {
   "cell_type": "code",
   "execution_count": 2,
   "metadata": {
    "ExecuteTime": {
     "end_time": "2019-01-08T21:06:04.363715Z",
     "start_time": "2019-01-08T21:06:04.27849Z"
    },
    "execution": {
     "iopub.execute_input": "2021-02-15T13:55:36.053583Z",
     "iopub.status.busy": "2021-02-15T13:55:36.051882Z",
     "iopub.status.idle": "2021-02-15T13:55:36.167413Z",
     "shell.execute_reply": "2021-02-15T13:55:36.166527Z"
    },
    "papermill": {
     "duration": 0.729698,
     "end_time": "2021-02-15T13:55:36.167591",
     "exception": false,
     "start_time": "2021-02-15T13:55:35.437893",
     "status": "completed"
    },
    "tags": []
   },
   "outputs": [
    {
     "ename": "NameError",
     "evalue": "name 'y_train' is not defined",
     "output_type": "error",
     "traceback": [
      "\u001b[1;31m---------------------------------------------------------------------------\u001b[0m",
      "\u001b[1;31mNameError\u001b[0m                                 Traceback (most recent call last)",
      "Cell \u001b[1;32mIn[2], line 2\u001b[0m\n\u001b[0;32m      1\u001b[0m \u001b[38;5;66;03m# Testando uma entrada qualquer\u001b[39;00m\n\u001b[1;32m----> 2\u001b[0m \u001b[38;5;28mprint\u001b[39m(\u001b[43my_train\u001b[49m[\u001b[38;5;241m10\u001b[39m])\n\u001b[0;32m      3\u001b[0m \u001b[38;5;28mprint\u001b[39m(model\u001b[38;5;241m.\u001b[39mpredict(x_train[\u001b[38;5;241m10\u001b[39m]\u001b[38;5;241m.\u001b[39mreshape((\u001b[38;5;241m1\u001b[39m,\u001b[38;5;241m28\u001b[39m,\u001b[38;5;241m28\u001b[39m,\u001b[38;5;241m1\u001b[39m))))\n\u001b[0;32m      4\u001b[0m \u001b[38;5;28mprint\u001b[39m(model\u001b[38;5;241m.\u001b[39mpredict_classes(x_train[\u001b[38;5;241m10\u001b[39m]\u001b[38;5;241m.\u001b[39mreshape((\u001b[38;5;241m1\u001b[39m,\u001b[38;5;241m28\u001b[39m,\u001b[38;5;241m28\u001b[39m,\u001b[38;5;241m1\u001b[39m))))\n",
      "\u001b[1;31mNameError\u001b[0m: name 'y_train' is not defined"
     ]
    }
   ],
   "source": [
    "# Testando uma entrada qualquer\n",
    "import numpy as np\n",
    "\n",
    "# Testando uma entrada qualquer\n",
    "print(y_train[10])  # Classe real\n",
    "print(model.predict(x_train[10].reshape((1, 28, 28, 1))))  # Probabilidades previstas\n",
    "\n",
    "predicted_class = np.argmax(model.predict(x_train[10].reshape((1, 28, 28, 1))), axis=1)\n",
    "print(predicted_class)  # Classe prevista\n"
   ]
  },
  {
   "cell_type": "markdown",
   "metadata": {
    "papermill": {
     "duration": 0.565893,
     "end_time": "2021-02-15T13:55:37.315705",
     "exception": false,
     "start_time": "2021-02-15T13:55:36.749812",
     "status": "completed"
    },
    "tags": []
   },
   "source": [
    "# Avaliando o Modelo"
   ]
  },
  {
   "cell_type": "code",
   "execution_count": 17,
   "metadata": {
    "execution": {
     "iopub.execute_input": "2021-02-15T13:55:38.485327Z",
     "iopub.status.busy": "2021-02-15T13:55:38.483082Z",
     "iopub.status.idle": "2021-02-15T13:55:38.486243Z",
     "shell.execute_reply": "2021-02-15T13:55:38.486767Z"
    },
    "papermill": {
     "duration": 0.584975,
     "end_time": "2021-02-15T13:55:38.486892",
     "exception": false,
     "start_time": "2021-02-15T13:55:37.901917",
     "status": "completed"
    },
    "tags": []
   },
   "outputs": [],
   "source": [
    "import itertools\n",
    "\n",
    "# Plot a confusão da matrix. Set Normalize = True/False\n",
    "def plot_confusion_matrix(cm, classes, normalize=True, title='Confusion matrix', cmap=plt.cm.Blues):\n",
    "\n",
    "    plt.figure(figsize=(10,10))\n",
    "    plt.imshow(cm, interpolation='nearest', cmap=cmap)\n",
    "    plt.title(title)\n",
    "    plt.colorbar()\n",
    "    tick_marks = np.arange(len(classes))\n",
    "    plt.xticks(tick_marks, classes, rotation=45)\n",
    "    plt.yticks(tick_marks, classes)\n",
    "    if normalize:\n",
    "        cm = cm.astype('float') / cm.sum(axis=1)[:, np.newaxis]\n",
    "        cm = np.around(cm, decimals=2)\n",
    "        cm[np.isnan(cm)] = 0.0\n",
    "    thresh = cm.max() / 2.\n",
    "    for i, j in itertools.product(range(cm.shape[0]), range(cm.shape[1])):\n",
    "        plt.text(j, i, cm[i, j],\n",
    "                 horizontalalignment=\"center\",\n",
    "                 color=\"white\" if cm[i, j] > thresh else \"black\")\n",
    "    plt.tight_layout()\n",
    "    plt.ylabel('True label')\n",
    "    plt.xlabel('Predicted label')"
   ]
  },
  {
   "cell_type": "code",
   "execution_count": 18,
   "metadata": {
    "ExecuteTime": {
     "end_time": "2019-01-08T21:24:57.7654Z",
     "start_time": "2019-01-08T21:24:57.220867Z"
    },
    "execution": {
     "iopub.execute_input": "2021-02-15T13:55:40.365601Z",
     "iopub.status.busy": "2021-02-15T13:55:40.364542Z",
     "iopub.status.idle": "2021-02-15T13:55:41.299066Z",
     "shell.execute_reply": "2021-02-15T13:55:41.298429Z"
    },
    "papermill": {
     "duration": 1.768517,
     "end_time": "2021-02-15T13:55:41.299190",
     "exception": false,
     "start_time": "2021-02-15T13:55:39.530673",
     "status": "completed"
    },
    "tags": []
   },
   "outputs": [
    {
     "name": "stdout",
     "output_type": "stream",
     "text": [
      "Classification Report\n",
      "              precision    recall  f1-score   support\n",
      "\n",
      "           0       0.99      1.00      0.99       417\n",
      "           1       1.00      1.00      1.00       480\n",
      "           2       0.99      1.00      0.99       408\n",
      "           3       0.99      0.98      0.99       437\n",
      "           4       0.99      0.98      0.99       391\n",
      "           5       0.96      0.99      0.97       377\n",
      "           6       0.99      0.99      0.99       413\n",
      "           7       0.98      0.99      0.99       450\n",
      "           8       0.99      0.98      0.98       381\n",
      "           9       0.99      0.97      0.98       446\n",
      "\n",
      "    accuracy                           0.99      4200\n",
      "   macro avg       0.99      0.99      0.99      4200\n",
      "weighted avg       0.99      0.99      0.99      4200\n",
      "\n"
     ]
    },
    {
     "data": {
      "image/png": "[encoded data removed]",
      "text/plain": [
       "<Figure size 720x720 with 2 Axes>"
      ]
     },
     "metadata": {
      "needs_background": "light"
     },
     "output_type": "display_data"
    }
   ],
   "source": [
    "from sklearn.metrics import confusion_matrix, classification_report\n",
    "import numpy as np\n",
    "\n",
    "# Classificando toda a base de teste\n",
    "y_pred = np.argmax(model.predict(x_val), axis=1)  # Obtendo as classes previstas\n",
    "y_test_c = np.argmax(y_val, axis=1)  # Convertendo o formato one-hot para classes\n",
    "\n",
    "# Nomes das classes (ajuste conforme necessário)\n",
    "target_names = ['0', '1', '2', '3', '4', '5', '6', '7', '8', '9']\n",
    "\n",
    "# Matriz de confusão\n",
    "cm = confusion_matrix(y_test_c, y_pred)\n",
    "print(\"Confusion Matrix:\")\n",
    "print(cm)\n",
    "\n",
    "# Relatório de classificação\n",
    "print(\"Classification Report:\")\n",
    "print(classification_report(y_test_c, y_pred, target_names=target_names))\n"
   ]
  },
  {
   "cell_type": "markdown",
   "metadata": {
    "papermill": {
     "duration": 0.575493,
     "end_time": "2021-02-15T13:55:42.507348",
     "exception": false,
     "start_time": "2021-02-15T13:55:41.931855",
     "status": "completed"
    },
    "tags": []
   },
   "source": [
    "# Gerando Saída"
   ]
  },
  {
   "cell_type": "code",
   "execution_count": 19,
   "metadata": {
    "execution": {
     "iopub.execute_input": "2021-02-15T13:55:43.643792Z",
     "iopub.status.busy": "2021-02-15T13:55:43.643051Z",
     "iopub.status.idle": "2021-02-15T13:55:47.887920Z",
     "shell.execute_reply": "2021-02-15T13:55:47.888753Z"
    },
    "papermill": {
     "duration": 4.817794,
     "end_time": "2021-02-15T13:55:47.888977",
     "exception": false,
     "start_time": "2021-02-15T13:55:43.071183",
     "status": "completed"
    },
    "tags": []
   },
   "outputs": [
    {
     "name": "stdout",
     "output_type": "stream",
     "text": [
      "Qtde de testes: 28000\n"
     ]
    },
    {
     "data": {
      "image/png": "[encoded data removed]",
      "text/plain": [
       "<Figure size 432x288 with 1 Axes>"
      ]
     },
     "metadata": {
      "needs_background": "light"
     },
     "output_type": "display_data"
    },
    {
     "name": "stdout",
     "output_type": "stream",
     "text": [
      "Previsto: 2\n",
      "   ImageId  Label\n",
      "0        1      2\n",
      "1        2      0\n",
      "2        3      9\n",
      "3        4      0\n",
      "4        5      3\n",
      "5        6      7\n",
      "6        7      0\n",
      "7        8      3\n",
      "8        9      0\n",
      "9       10      3\n"
     ]
    }
   ],
   "source": [
    "# Gerando saída para dataset de teste\n",
    "\n",
    "#Carrega dataset de teste\n",
    "test = pd.read_csv(\"./test.csv\")\n",
    "print(\"Qtde de testes: {}\".format(len(test)))\n",
    "# Bota no formato numpy e normaliza\n",
    "x_test = test.values.reshape(len(test),28,28,1)\n",
    "x_test = x_test.astype('float32')\n",
    "x_test /= 255\n",
    "\n",
    "# Faz classificação para dataset de teste\n",
    "y_pred = np.argmax(model.predict(x_test), axis=1)\n",
    "\n",
    "# Verificando algum exemplo\n",
    "indices = [0, 10, 25, 42]  # Escolha os índices que deseja verificar\n",
    "for i in indices:\n",
    "    plt.imshow(test.values[i].reshape(28, 28), cmap=plt.cm.binary)\n",
    "    plt.title(f\"Índice: {i}, Previsto: {y_pred[i]}\")\n",
    "    plt.show()\n",
    "\n",
    "# Botando no formato de saída\n",
    "results = pd.Series(y_pred, name=\"Label\")\n",
    "submission = pd.concat([pd.Series(range(1, len(y_pred) + 1), name=\"ImageId\"), results], axis=1)\n",
    "print(submission.head())\n",
    "\n",
    "# Salvando Arquivo\n",
    "submission.to_csv(\"saida.csv\", index=False)\n"
   ]
  },
  {
   "cell_type": "markdown",
   "metadata": {
    "papermill": {
     "duration": 0.5681,
     "end_time": "2021-02-15T13:55:49.039981",
     "exception": false,
     "start_time": "2021-02-15T13:55:48.471881",
     "status": "completed"
    },
    "tags": []
   },
   "source": [
    "# Exemplo de casos externos"
   ]
  },
  {
   "cell_type": "code",
   "execution_count": null,
   "metadata": {
    "papermill": {
     "duration": 0.559144,
     "end_time": "2021-02-15T13:55:53.431039",
     "exception": false,
     "start_time": "2021-02-15T13:55:52.871895",
     "status": "completed"
    },
    "tags": []
   },
   "outputs": [],
   "source": [
    "import numpy as np\n",
    "import matplotlib.pyplot as plt\n",
    "from PIL import Image\n",
    "\n",
    "caminho = './testes-externos/cinco.png'\n",
    "testar_imagem_externa(caminho, model)\n",
    "\n",
    "def testar_imagem_externa(caminho, modelo, num_classes=10):\n",
    "    \"\"\"\n",
    "    Testa uma imagem fora do dataset de teste no modelo treinado.\n",
    "    \n",
    "    Parâmetros:\n",
    "        caminho_imagem (str): Caminho para a imagem no disco.\n",
    "        modelo: O modelo treinado para realizar a previsão.\n",
    "        num_classes (int): Número de classes do modelo.\n",
    "    \n",
    "    Retorno:\n",
    "        Nenhum. Mostra a imagem e imprime a classe prevista.\n",
    "    \"\"\"\n",
    "    # Carregar a imagem\n",
    "    img = Image.open(caminho).convert('L')  # Converter para escala de cinza\n",
    "    img = img.resize((28, 28))  # Redimensionar para 28x28 pixels\n",
    "    \n",
    "    # Visualizar a imagem carregada\n",
    "    plt.imshow(img, cmap='gray')\n",
    "    plt.title(\"Imagem carregada\")\n",
    "    plt.axis('off')\n",
    "    plt.show()\n",
    "    \n",
    "    # Pré-processar a imagem\n",
    "    img_array = np.array(img).astype('float32') / 255.0  # Normalizar os valores para [0, 1]\n",
    "    img_array = img_array.reshape(1, 28, 28, 1)  # Adicionar dimensões para batch e canais\n",
    "\n",
    "    # Fazer a previsão\n",
    "    previsoes = modelo.predict(img_array)\n",
    "    classe_prevista = np.argmax(previsoes, axis=1)[0]\n",
    "\n",
    "    print(f\"Classe prevista: {classe_prevista}\")\n",
    "    print(f\"Probabilidades para cada classe: {previsoes.flatten()}\")\n"
   ]
  }
 ],
 "metadata": {
  "kernelspec": {
   "display_name": "Python 3",
   "language": "python",
   "name": "python3"
  },
  "language_info": {
   "codemirror_mode": {
    "name": "ipython",
    "version": 3
   },
   "file_extension": ".py",
   "mimetype": "text/x-python",
   "name": "python",
   "nbconvert_exporter": "python",
   "pygments_lexer": "ipython3",
   "version": "3.9.0"
  },
  "papermill": {
   "duration": 124.873489,
   "end_time": "2021-02-15T13:55:55.570988",
   "environment_variables": {},
   "exception": null,
   "input_path": "__notebook__.ipynb",
   "output_path": "__notebook__.ipynb",
   "parameters": {},
   "start_time": "2021-02-15T13:53:50.697499",
   "version": "2.1.0"
  }
 },
 "nbformat": 4,
 "nbformat_minor": 4
}
